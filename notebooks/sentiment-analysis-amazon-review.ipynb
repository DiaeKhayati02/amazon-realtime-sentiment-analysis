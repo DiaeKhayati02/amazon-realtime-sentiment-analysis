{
 "cells": [
  {
   "cell_type": "code",
   "execution_count": 1,
   "id": "987ba5b7",
   "metadata": {
    "_cell_guid": "b1076dfc-b9ad-4769-8c92-a6c4dae69d19",
    "_uuid": "8f2839f25d086af736a60e9eeb907d3b93b6e0e5",
    "execution": {
     "iopub.execute_input": "2022-05-08T15:07:51.353329Z",
     "iopub.status.busy": "2022-05-08T15:07:51.352937Z",
     "iopub.status.idle": "2022-05-08T15:07:51.368599Z",
     "shell.execute_reply": "2022-05-08T15:07:51.367738Z"
    },
    "papermill": {
     "duration": 0.084554,
     "end_time": "2022-05-08T15:07:51.371218",
     "exception": false,
     "start_time": "2022-05-08T15:07:51.286664",
     "status": "completed"
    },
    "tags": []
   },
   "outputs": [],
   "source": [
    "import numpy as np # linear algebra\n",
    "import pandas as pd # data processing, CSV file I/O (e.g. pd.read_csv)"
   ]
  },
  {
   "cell_type": "code",
   "execution_count": 2,
   "id": "a023dc91",
   "metadata": {},
   "outputs": [
    {
     "name": "stderr",
     "output_type": "stream",
     "text": [
      "[nltk_data] Downloading package wordnet to C:\\Users\\Asus\n",
      "[nltk_data]     PC\\AppData\\Roaming\\nltk_data...\n",
      "[nltk_data]   Package wordnet is already up-to-date!\n",
      "[nltk_data] Downloading package punkt to C:\\Users\\Asus\n",
      "[nltk_data]     PC\\AppData\\Roaming\\nltk_data...\n",
      "[nltk_data]   Package punkt is already up-to-date!\n",
      "[nltk_data] Downloading package stopwords to C:\\Users\\Asus\n",
      "[nltk_data]     PC\\AppData\\Roaming\\nltk_data...\n",
      "[nltk_data]   Package stopwords is already up-to-date!\n"
     ]
    },
    {
     "data": {
      "text/plain": [
       "True"
      ]
     },
     "execution_count": 2,
     "metadata": {},
     "output_type": "execute_result"
    }
   ],
   "source": [
    "import nltk\n",
    "nltk.download('wordnet')\n",
    "nltk.download('punkt')\n",
    "nltk.download('stopwords')"
   ]
  },
  {
   "cell_type": "code",
   "execution_count": 5,
   "id": "22734336",
   "metadata": {
    "execution": {
     "iopub.execute_input": "2022-05-08T15:07:51.783837Z",
     "iopub.status.busy": "2022-05-08T15:07:51.783401Z",
     "iopub.status.idle": "2022-05-08T15:07:56.089313Z",
     "shell.execute_reply": "2022-05-08T15:07:56.088465Z"
    },
    "papermill": {
     "duration": 4.373626,
     "end_time": "2022-05-08T15:07:56.091632",
     "exception": false,
     "start_time": "2022-05-08T15:07:51.718006",
     "status": "completed"
    },
    "tags": []
   },
   "outputs": [],
   "source": [
    "#NLTK libraries\n",
    "import nltk\n",
    "import re\n",
    "import string\n",
    "from wordcloud import WordCloud,STOPWORDS\n",
    "from nltk.stem.porter import PorterStemmer\n",
    "from sklearn.feature_extraction.text import TfidfVectorizer\n",
    "from nltk.stem import WordNetLemmatizer\n",
    "from collections import Counter\n",
    "from imblearn.over_sampling import SMOTE\n",
    "# Machine Learning libraries\n",
    "import sklearn \n",
    "from sklearn.svm import SVC\n",
    "from sklearn.preprocessing import LabelEncoder\n",
    "from sklearn.preprocessing import StandardScaler\n",
    "from sklearn.preprocessing import MinMaxScaler\n",
    "from sklearn.ensemble import ExtraTreesClassifier\n",
    "from sklearn.pipeline import make_pipeline\n",
    "from sklearn.model_selection import GridSearchCV\n",
    "from sklearn.linear_model import LogisticRegression\n",
    "from sklearn.tree import DecisionTreeClassifier\n",
    "from sklearn.ensemble import RandomForestClassifier\n",
    "from sklearn.naive_bayes import BernoulliNB \n",
    "from sklearn.neighbors import KNeighborsClassifier\n",
    "from sklearn.multiclass import OneVsRestClassifier\n",
    "from sklearn.svm import SVC\n",
    "from sklearn.pipeline import Pipeline\n",
    "from sklearn.model_selection import train_test_split\n",
    "from sklearn.preprocessing import label_binarize\n",
    "from sklearn import svm, datasets\n",
    "from sklearn import preprocessing \n",
    "\n",
    "\n",
    "#Metrics libraries\n",
    "from sklearn import metrics\n",
    "from sklearn.metrics import classification_report\n",
    "from sklearn.model_selection import cross_val_score\n",
    "from sklearn.metrics import roc_auc_score\n",
    "from sklearn.metrics import roc_curve, auc\n",
    "\n",
    "#Visualization libraries\n",
    "import matplotlib.pyplot as plt \n",
    "from matplotlib import rcParams\n",
    "import seaborn as sns\n",
    "from textblob import TextBlob\n",
    "from plotly import tools\n",
    "import plotly.graph_objs as go\n",
    "from plotly.offline import iplot\n",
    "%matplotlib inline\n",
    "\n",
    "#Ignore warnings\n",
    "import warnings\n",
    "warnings.filterwarnings('ignore')\n",
    "\n",
    "#Other miscellaneous libraries\n",
    "# from scipy import interp\n",
    "from itertools import cycle\n",
    "import cufflinks as cf\n",
    "from collections import defaultdict\n",
    "from collections import Counter\n",
    "from imblearn.over_sampling import SMOTE"
   ]
  },
  {
   "cell_type": "markdown",
   "id": "edd1355e",
   "metadata": {
    "papermill": {
     "duration": 0.064573,
     "end_time": "2022-05-08T15:07:56.220884",
     "exception": false,
     "start_time": "2022-05-08T15:07:56.156311",
     "status": "completed"
    },
    "tags": []
   },
   "source": [
    "# **Importing the Dataset**"
   ]
  },
  {
   "cell_type": "code",
   "execution_count": 6,
   "id": "6064efd7",
   "metadata": {
    "execution": {
     "iopub.execute_input": "2022-05-08T15:07:56.351489Z",
     "iopub.status.busy": "2022-05-08T15:07:56.351178Z",
     "iopub.status.idle": "2022-05-08T15:07:56.531095Z",
     "shell.execute_reply": "2022-05-08T15:07:56.530262Z"
    },
    "papermill": {
     "duration": 0.248255,
     "end_time": "2022-05-08T15:07:56.533734",
     "exception": false,
     "start_time": "2022-05-08T15:07:56.285479",
     "status": "completed"
    },
    "tags": []
   },
   "outputs": [
    {
     "name": "stdout",
     "output_type": "stream",
     "text": [
      "Amazon Reviews for sentiment Analysis Dataset:\n"
     ]
    },
    {
     "data": {
      "text/html": [
       "<div>\n",
       "<style scoped>\n",
       "    .dataframe tbody tr th:only-of-type {\n",
       "        vertical-align: middle;\n",
       "    }\n",
       "\n",
       "    .dataframe tbody tr th {\n",
       "        vertical-align: top;\n",
       "    }\n",
       "\n",
       "    .dataframe thead th {\n",
       "        text-align: right;\n",
       "    }\n",
       "</style>\n",
       "<table border=\"1\" class=\"dataframe\">\n",
       "  <thead>\n",
       "    <tr style=\"text-align: right;\">\n",
       "      <th></th>\n",
       "      <th>reviewerID</th>\n",
       "      <th>asin</th>\n",
       "      <th>reviewerName</th>\n",
       "      <th>helpful</th>\n",
       "      <th>reviewText</th>\n",
       "      <th>overall</th>\n",
       "      <th>summary</th>\n",
       "      <th>unixReviewTime</th>\n",
       "      <th>reviewTime</th>\n",
       "    </tr>\n",
       "  </thead>\n",
       "  <tbody>\n",
       "    <tr>\n",
       "      <th>0</th>\n",
       "      <td>A2IBPI20UZIR0U</td>\n",
       "      <td>1384719342</td>\n",
       "      <td>cassandra tu \"Yeah, well, that's just like, u...</td>\n",
       "      <td>[0, 0]</td>\n",
       "      <td>Not much to write about here, but it does exac...</td>\n",
       "      <td>5.0</td>\n",
       "      <td>good</td>\n",
       "      <td>1393545600</td>\n",
       "      <td>02 28, 2014</td>\n",
       "    </tr>\n",
       "    <tr>\n",
       "      <th>1</th>\n",
       "      <td>A14VAT5EAX3D9S</td>\n",
       "      <td>1384719342</td>\n",
       "      <td>Jake</td>\n",
       "      <td>[13, 14]</td>\n",
       "      <td>The product does exactly as it should and is q...</td>\n",
       "      <td>5.0</td>\n",
       "      <td>Jake</td>\n",
       "      <td>1363392000</td>\n",
       "      <td>03 16, 2013</td>\n",
       "    </tr>\n",
       "    <tr>\n",
       "      <th>2</th>\n",
       "      <td>A195EZSQDW3E21</td>\n",
       "      <td>1384719342</td>\n",
       "      <td>Rick Bennette \"Rick Bennette\"</td>\n",
       "      <td>[1, 1]</td>\n",
       "      <td>The primary job of this device is to block the...</td>\n",
       "      <td>5.0</td>\n",
       "      <td>It Does The Job Well</td>\n",
       "      <td>1377648000</td>\n",
       "      <td>08 28, 2013</td>\n",
       "    </tr>\n",
       "    <tr>\n",
       "      <th>3</th>\n",
       "      <td>A2C00NNG1ZQQG2</td>\n",
       "      <td>1384719342</td>\n",
       "      <td>RustyBill \"Sunday Rocker\"</td>\n",
       "      <td>[0, 0]</td>\n",
       "      <td>Nice windscreen protects my MXL mic and preven...</td>\n",
       "      <td>5.0</td>\n",
       "      <td>GOOD WINDSCREEN FOR THE MONEY</td>\n",
       "      <td>1392336000</td>\n",
       "      <td>02 14, 2014</td>\n",
       "    </tr>\n",
       "    <tr>\n",
       "      <th>4</th>\n",
       "      <td>A94QU4C90B1AX</td>\n",
       "      <td>1384719342</td>\n",
       "      <td>SEAN MASLANKA</td>\n",
       "      <td>[0, 0]</td>\n",
       "      <td>This pop filter is great. It looks and perform...</td>\n",
       "      <td>5.0</td>\n",
       "      <td>No more pops when I record my vocals.</td>\n",
       "      <td>1392940800</td>\n",
       "      <td>02 21, 2014</td>\n",
       "    </tr>\n",
       "    <tr>\n",
       "      <th>...</th>\n",
       "      <td>...</td>\n",
       "      <td>...</td>\n",
       "      <td>...</td>\n",
       "      <td>...</td>\n",
       "      <td>...</td>\n",
       "      <td>...</td>\n",
       "      <td>...</td>\n",
       "      <td>...</td>\n",
       "      <td>...</td>\n",
       "    </tr>\n",
       "    <tr>\n",
       "      <th>10256</th>\n",
       "      <td>A14B2YH83ZXMPP</td>\n",
       "      <td>B00JBIVXGC</td>\n",
       "      <td>Lonnie M. Adams</td>\n",
       "      <td>[0, 0]</td>\n",
       "      <td>Great, just as expected.  Thank to all.</td>\n",
       "      <td>5.0</td>\n",
       "      <td>Five Stars</td>\n",
       "      <td>1405814400</td>\n",
       "      <td>07 20, 2014</td>\n",
       "    </tr>\n",
       "    <tr>\n",
       "      <th>10257</th>\n",
       "      <td>A1RPTVW5VEOSI</td>\n",
       "      <td>B00JBIVXGC</td>\n",
       "      <td>Michael J. Edelman</td>\n",
       "      <td>[0, 0]</td>\n",
       "      <td>I've been thinking about trying the Nanoweb st...</td>\n",
       "      <td>5.0</td>\n",
       "      <td>Long life, and for some players, a good econom...</td>\n",
       "      <td>1404259200</td>\n",
       "      <td>07 2, 2014</td>\n",
       "    </tr>\n",
       "    <tr>\n",
       "      <th>10258</th>\n",
       "      <td>AWCJ12KBO5VII</td>\n",
       "      <td>B00JBIVXGC</td>\n",
       "      <td>Michael L. Knapp</td>\n",
       "      <td>[0, 0]</td>\n",
       "      <td>I have tried coated strings in the past ( incl...</td>\n",
       "      <td>4.0</td>\n",
       "      <td>Good for coated.</td>\n",
       "      <td>1405987200</td>\n",
       "      <td>07 22, 2014</td>\n",
       "    </tr>\n",
       "    <tr>\n",
       "      <th>10259</th>\n",
       "      <td>A2Z7S8B5U4PAKJ</td>\n",
       "      <td>B00JBIVXGC</td>\n",
       "      <td>Rick Langdon \"Scriptor\"</td>\n",
       "      <td>[0, 0]</td>\n",
       "      <td>Well, MADE by Elixir and DEVELOPED with Taylor...</td>\n",
       "      <td>4.0</td>\n",
       "      <td>Taylor Made</td>\n",
       "      <td>1404172800</td>\n",
       "      <td>07 1, 2014</td>\n",
       "    </tr>\n",
       "    <tr>\n",
       "      <th>10260</th>\n",
       "      <td>A2WA8TDCTGUADI</td>\n",
       "      <td>B00JBIVXGC</td>\n",
       "      <td>TheTerrorBeyond</td>\n",
       "      <td>[0, 0]</td>\n",
       "      <td>These strings are really quite good, but I wou...</td>\n",
       "      <td>4.0</td>\n",
       "      <td>These strings are really quite good, but I wou...</td>\n",
       "      <td>1405468800</td>\n",
       "      <td>07 16, 2014</td>\n",
       "    </tr>\n",
       "  </tbody>\n",
       "</table>\n",
       "<p>10261 rows × 9 columns</p>\n",
       "</div>"
      ],
      "text/plain": [
       "           reviewerID        asin  \\\n",
       "0      A2IBPI20UZIR0U  1384719342   \n",
       "1      A14VAT5EAX3D9S  1384719342   \n",
       "2      A195EZSQDW3E21  1384719342   \n",
       "3      A2C00NNG1ZQQG2  1384719342   \n",
       "4       A94QU4C90B1AX  1384719342   \n",
       "...               ...         ...   \n",
       "10256  A14B2YH83ZXMPP  B00JBIVXGC   \n",
       "10257   A1RPTVW5VEOSI  B00JBIVXGC   \n",
       "10258   AWCJ12KBO5VII  B00JBIVXGC   \n",
       "10259  A2Z7S8B5U4PAKJ  B00JBIVXGC   \n",
       "10260  A2WA8TDCTGUADI  B00JBIVXGC   \n",
       "\n",
       "                                           reviewerName   helpful  \\\n",
       "0      cassandra tu \"Yeah, well, that's just like, u...    [0, 0]   \n",
       "1                                                  Jake  [13, 14]   \n",
       "2                         Rick Bennette \"Rick Bennette\"    [1, 1]   \n",
       "3                             RustyBill \"Sunday Rocker\"    [0, 0]   \n",
       "4                                         SEAN MASLANKA    [0, 0]   \n",
       "...                                                 ...       ...   \n",
       "10256                                   Lonnie M. Adams    [0, 0]   \n",
       "10257                                Michael J. Edelman    [0, 0]   \n",
       "10258                                  Michael L. Knapp    [0, 0]   \n",
       "10259                           Rick Langdon \"Scriptor\"    [0, 0]   \n",
       "10260                                   TheTerrorBeyond    [0, 0]   \n",
       "\n",
       "                                              reviewText  overall  \\\n",
       "0      Not much to write about here, but it does exac...      5.0   \n",
       "1      The product does exactly as it should and is q...      5.0   \n",
       "2      The primary job of this device is to block the...      5.0   \n",
       "3      Nice windscreen protects my MXL mic and preven...      5.0   \n",
       "4      This pop filter is great. It looks and perform...      5.0   \n",
       "...                                                  ...      ...   \n",
       "10256            Great, just as expected.  Thank to all.      5.0   \n",
       "10257  I've been thinking about trying the Nanoweb st...      5.0   \n",
       "10258  I have tried coated strings in the past ( incl...      4.0   \n",
       "10259  Well, MADE by Elixir and DEVELOPED with Taylor...      4.0   \n",
       "10260  These strings are really quite good, but I wou...      4.0   \n",
       "\n",
       "                                                 summary  unixReviewTime  \\\n",
       "0                                                   good      1393545600   \n",
       "1                                                   Jake      1363392000   \n",
       "2                                   It Does The Job Well      1377648000   \n",
       "3                          GOOD WINDSCREEN FOR THE MONEY      1392336000   \n",
       "4                  No more pops when I record my vocals.      1392940800   \n",
       "...                                                  ...             ...   \n",
       "10256                                         Five Stars      1405814400   \n",
       "10257  Long life, and for some players, a good econom...      1404259200   \n",
       "10258                                   Good for coated.      1405987200   \n",
       "10259                                        Taylor Made      1404172800   \n",
       "10260  These strings are really quite good, but I wou...      1405468800   \n",
       "\n",
       "        reviewTime  \n",
       "0      02 28, 2014  \n",
       "1      03 16, 2013  \n",
       "2      08 28, 2013  \n",
       "3      02 14, 2014  \n",
       "4      02 21, 2014  \n",
       "...            ...  \n",
       "10256  07 20, 2014  \n",
       "10257   07 2, 2014  \n",
       "10258  07 22, 2014  \n",
       "10259   07 1, 2014  \n",
       "10260  07 16, 2014  \n",
       "\n",
       "[10261 rows x 9 columns]"
      ]
     },
     "execution_count": 6,
     "metadata": {},
     "output_type": "execute_result"
    }
   ],
   "source": [
    "reviews = pd.read_csv('../data/Musical_instruments_reviews.csv')\n",
    "print('Amazon Reviews for sentiment Analysis Dataset:')\n",
    "reviews"
   ]
  },
  {
   "cell_type": "code",
   "execution_count": 7,
   "id": "f5845db0",
   "metadata": {
    "execution": {
     "iopub.execute_input": "2022-05-08T15:07:56.665883Z",
     "iopub.status.busy": "2022-05-08T15:07:56.665359Z",
     "iopub.status.idle": "2022-05-08T15:07:56.690688Z",
     "shell.execute_reply": "2022-05-08T15:07:56.689609Z"
    },
    "papermill": {
     "duration": 0.094216,
     "end_time": "2022-05-08T15:07:56.693394",
     "exception": false,
     "start_time": "2022-05-08T15:07:56.599178",
     "status": "completed"
    },
    "tags": []
   },
   "outputs": [
    {
     "name": "stdout",
     "output_type": "stream",
     "text": [
      "The shape of the  data is (row, column):(10261, 9)\n",
      "<class 'pandas.core.frame.DataFrame'>\n",
      "RangeIndex: 10261 entries, 0 to 10260\n",
      "Data columns (total 9 columns):\n",
      " #   Column          Non-Null Count  Dtype  \n",
      "---  ------          --------------  -----  \n",
      " 0   reviewerID      10261 non-null  object \n",
      " 1   asin            10261 non-null  object \n",
      " 2   reviewerName    10234 non-null  object \n",
      " 3   helpful         10261 non-null  object \n",
      " 4   reviewText      10254 non-null  object \n",
      " 5   overall         10261 non-null  float64\n",
      " 6   summary         10261 non-null  object \n",
      " 7   unixReviewTime  10261 non-null  int64  \n",
      " 8   reviewTime      10261 non-null  object \n",
      "dtypes: float64(1), int64(1), object(7)\n",
      "memory usage: 721.6+ KB\n",
      "The Information about the dataset:None\n"
     ]
    }
   ],
   "source": [
    "## print shape of dataset with rows and columns and information \n",
    "print (\"The shape of the  data is (row, column):\"+ str(reviews.shape))\n",
    "print (\"The Information about the dataset:\" + str(reviews.info()))"
   ]
  },
  {
   "cell_type": "markdown",
   "id": "62e3ec10",
   "metadata": {
    "papermill": {
     "duration": 0.064645,
     "end_time": "2022-05-08T15:07:56.823762",
     "exception": false,
     "start_time": "2022-05-08T15:07:56.759117",
     "status": "completed"
    },
    "tags": []
   },
   "source": [
    "# **Dataset Attributes**\n",
    "This dataset has reviewer ID , User ID, Reviewer Name, Reviewer text, helpful, Summary(obtained from Reviewer text), Overall Rating on a scale 5 and Review time.\n",
    "\n",
    "Description of columns in the file:\n",
    "\n",
    "1. reviewerID - ID of the reviewer, e.g. A2SUAM1J3GNN3B\n",
    "2. asin - ID of the product, e.g. 0000013714\n",
    "3. reviewerName - name of the reviewer\n",
    "4. helpful - helpfulness rating of the review, e.g. 2/3\n",
    "5. reviewText - text of the review\n",
    "6. overall - rating of the product\n",
    "7. summary - summary of the review\n",
    "8. unixReviewTime - time of the review (unix time)\n",
    "9. reviewTime - time of the review (raw)"
   ]
  },
  {
   "cell_type": "code",
   "execution_count": 8,
   "id": "0fe747a5",
   "metadata": {
    "execution": {
     "iopub.execute_input": "2022-05-08T15:07:56.955806Z",
     "iopub.status.busy": "2022-05-08T15:07:56.955411Z",
     "iopub.status.idle": "2022-05-08T15:07:56.967437Z",
     "shell.execute_reply": "2022-05-08T15:07:56.966890Z"
    },
    "papermill": {
     "duration": 0.079807,
     "end_time": "2022-05-08T15:07:56.969054",
     "exception": false,
     "start_time": "2022-05-08T15:07:56.889247",
     "status": "completed"
    },
    "tags": []
   },
   "outputs": [
    {
     "data": {
      "text/html": [
       "<div>\n",
       "<style scoped>\n",
       "    .dataframe tbody tr th:only-of-type {\n",
       "        vertical-align: middle;\n",
       "    }\n",
       "\n",
       "    .dataframe tbody tr th {\n",
       "        vertical-align: top;\n",
       "    }\n",
       "\n",
       "    .dataframe thead th {\n",
       "        text-align: right;\n",
       "    }\n",
       "</style>\n",
       "<table border=\"1\" class=\"dataframe\">\n",
       "  <thead>\n",
       "    <tr style=\"text-align: right;\">\n",
       "      <th></th>\n",
       "      <th>reviewerID</th>\n",
       "      <th>asin</th>\n",
       "      <th>reviewerName</th>\n",
       "      <th>helpful</th>\n",
       "      <th>reviewText</th>\n",
       "      <th>overall</th>\n",
       "      <th>summary</th>\n",
       "      <th>unixReviewTime</th>\n",
       "      <th>reviewTime</th>\n",
       "    </tr>\n",
       "  </thead>\n",
       "  <tbody>\n",
       "    <tr>\n",
       "      <th>0</th>\n",
       "      <td>A2IBPI20UZIR0U</td>\n",
       "      <td>1384719342</td>\n",
       "      <td>cassandra tu \"Yeah, well, that's just like, u...</td>\n",
       "      <td>[0, 0]</td>\n",
       "      <td>Not much to write about here, but it does exac...</td>\n",
       "      <td>5.0</td>\n",
       "      <td>good</td>\n",
       "      <td>1393545600</td>\n",
       "      <td>02 28, 2014</td>\n",
       "    </tr>\n",
       "    <tr>\n",
       "      <th>1</th>\n",
       "      <td>A14VAT5EAX3D9S</td>\n",
       "      <td>1384719342</td>\n",
       "      <td>Jake</td>\n",
       "      <td>[13, 14]</td>\n",
       "      <td>The product does exactly as it should and is q...</td>\n",
       "      <td>5.0</td>\n",
       "      <td>Jake</td>\n",
       "      <td>1363392000</td>\n",
       "      <td>03 16, 2013</td>\n",
       "    </tr>\n",
       "    <tr>\n",
       "      <th>2</th>\n",
       "      <td>A195EZSQDW3E21</td>\n",
       "      <td>1384719342</td>\n",
       "      <td>Rick Bennette \"Rick Bennette\"</td>\n",
       "      <td>[1, 1]</td>\n",
       "      <td>The primary job of this device is to block the...</td>\n",
       "      <td>5.0</td>\n",
       "      <td>It Does The Job Well</td>\n",
       "      <td>1377648000</td>\n",
       "      <td>08 28, 2013</td>\n",
       "    </tr>\n",
       "    <tr>\n",
       "      <th>3</th>\n",
       "      <td>A2C00NNG1ZQQG2</td>\n",
       "      <td>1384719342</td>\n",
       "      <td>RustyBill \"Sunday Rocker\"</td>\n",
       "      <td>[0, 0]</td>\n",
       "      <td>Nice windscreen protects my MXL mic and preven...</td>\n",
       "      <td>5.0</td>\n",
       "      <td>GOOD WINDSCREEN FOR THE MONEY</td>\n",
       "      <td>1392336000</td>\n",
       "      <td>02 14, 2014</td>\n",
       "    </tr>\n",
       "    <tr>\n",
       "      <th>4</th>\n",
       "      <td>A94QU4C90B1AX</td>\n",
       "      <td>1384719342</td>\n",
       "      <td>SEAN MASLANKA</td>\n",
       "      <td>[0, 0]</td>\n",
       "      <td>This pop filter is great. It looks and perform...</td>\n",
       "      <td>5.0</td>\n",
       "      <td>No more pops when I record my vocals.</td>\n",
       "      <td>1392940800</td>\n",
       "      <td>02 21, 2014</td>\n",
       "    </tr>\n",
       "  </tbody>\n",
       "</table>\n",
       "</div>"
      ],
      "text/plain": [
       "       reviewerID        asin  \\\n",
       "0  A2IBPI20UZIR0U  1384719342   \n",
       "1  A14VAT5EAX3D9S  1384719342   \n",
       "2  A195EZSQDW3E21  1384719342   \n",
       "3  A2C00NNG1ZQQG2  1384719342   \n",
       "4   A94QU4C90B1AX  1384719342   \n",
       "\n",
       "                                       reviewerName   helpful  \\\n",
       "0  cassandra tu \"Yeah, well, that's just like, u...    [0, 0]   \n",
       "1                                              Jake  [13, 14]   \n",
       "2                     Rick Bennette \"Rick Bennette\"    [1, 1]   \n",
       "3                         RustyBill \"Sunday Rocker\"    [0, 0]   \n",
       "4                                     SEAN MASLANKA    [0, 0]   \n",
       "\n",
       "                                          reviewText  overall  \\\n",
       "0  Not much to write about here, but it does exac...      5.0   \n",
       "1  The product does exactly as it should and is q...      5.0   \n",
       "2  The primary job of this device is to block the...      5.0   \n",
       "3  Nice windscreen protects my MXL mic and preven...      5.0   \n",
       "4  This pop filter is great. It looks and perform...      5.0   \n",
       "\n",
       "                                 summary  unixReviewTime   reviewTime  \n",
       "0                                   good      1393545600  02 28, 2014  \n",
       "1                                   Jake      1363392000  03 16, 2013  \n",
       "2                   It Does The Job Well      1377648000  08 28, 2013  \n",
       "3          GOOD WINDSCREEN FOR THE MONEY      1392336000  02 14, 2014  \n",
       "4  No more pops when I record my vocals.      1392940800  02 21, 2014  "
      ]
     },
     "execution_count": 8,
     "metadata": {},
     "output_type": "execute_result"
    }
   ],
   "source": [
    "reviews.head()"
   ]
  },
  {
   "cell_type": "markdown",
   "id": "28d028dd",
   "metadata": {
    "papermill": {
     "duration": 0.067335,
     "end_time": "2022-05-08T15:07:57.101771",
     "exception": false,
     "start_time": "2022-05-08T15:07:57.034436",
     "status": "completed"
    },
    "tags": []
   },
   "source": [
    "# **Preprocessing of Dataset**"
   ]
  },
  {
   "cell_type": "code",
   "execution_count": 9,
   "id": "31198d0b",
   "metadata": {
    "execution": {
     "iopub.execute_input": "2022-05-08T15:07:57.235472Z",
     "iopub.status.busy": "2022-05-08T15:07:57.234830Z",
     "iopub.status.idle": "2022-05-08T15:07:57.247040Z",
     "shell.execute_reply": "2022-05-08T15:07:57.246187Z"
    },
    "papermill": {
     "duration": 0.081039,
     "end_time": "2022-05-08T15:07:57.248841",
     "exception": false,
     "start_time": "2022-05-08T15:07:57.167802",
     "status": "completed"
    },
    "tags": []
   },
   "outputs": [
    {
     "name": "stdout",
     "output_type": "stream",
     "text": [
      "The null values in the dataset:\n"
     ]
    },
    {
     "data": {
      "text/plain": [
       "reviewerID         0\n",
       "asin               0\n",
       "reviewerName      27\n",
       "helpful            0\n",
       "reviewText         7\n",
       "overall            0\n",
       "summary            0\n",
       "unixReviewTime     0\n",
       "reviewTime         0\n",
       "dtype: int64"
      ]
     },
     "execution_count": 9,
     "metadata": {},
     "output_type": "execute_result"
    }
   ],
   "source": [
    "#Checking for null values\n",
    "print('The null values in the dataset:')\n",
    "reviews.isnull().sum()"
   ]
  },
  {
   "cell_type": "markdown",
   "id": "363f59a3",
   "metadata": {
    "papermill": {
     "duration": 0.065841,
     "end_time": "2022-05-08T15:07:57.380069",
     "exception": false,
     "start_time": "2022-05-08T15:07:57.314228",
     "status": "completed"
    },
    "tags": []
   },
   "source": [
    "There are null values in reviewerNames and reviewText. Reviewer names doesn't add any value as reviewID is present in the dataset\n",
    "For reviewText dropping wouldn't be a problem as there are only 7 null values possibly due to ratings."
   ]
  },
  {
   "cell_type": "code",
   "execution_count": 10,
   "id": "edfaead2",
   "metadata": {
    "execution": {
     "iopub.execute_input": "2022-05-08T15:07:57.515515Z",
     "iopub.status.busy": "2022-05-08T15:07:57.514768Z",
     "iopub.status.idle": "2022-05-08T15:07:57.521616Z",
     "shell.execute_reply": "2022-05-08T15:07:57.521063Z"
    },
    "papermill": {
     "duration": 0.075837,
     "end_time": "2022-05-08T15:07:57.523280",
     "exception": false,
     "start_time": "2022-05-08T15:07:57.447443",
     "status": "completed"
    },
    "tags": []
   },
   "outputs": [],
   "source": [
    "reviews['reviewText'] = reviews['reviewText'].fillna('Missing')"
   ]
  },
  {
   "cell_type": "code",
   "execution_count": 11,
   "id": "1b2eaaf2",
   "metadata": {
    "execution": {
     "iopub.execute_input": "2022-05-08T15:07:57.657980Z",
     "iopub.status.busy": "2022-05-08T15:07:57.657355Z",
     "iopub.status.idle": "2022-05-08T15:07:57.668700Z",
     "shell.execute_reply": "2022-05-08T15:07:57.668126Z"
    },
    "papermill": {
     "duration": 0.081044,
     "end_time": "2022-05-08T15:07:57.670294",
     "exception": false,
     "start_time": "2022-05-08T15:07:57.589250",
     "status": "completed"
    },
    "tags": []
   },
   "outputs": [
    {
     "data": {
      "text/plain": [
       "reviewerID         0\n",
       "asin               0\n",
       "reviewerName      27\n",
       "helpful            0\n",
       "reviewText         0\n",
       "overall            0\n",
       "summary            0\n",
       "unixReviewTime     0\n",
       "reviewTime         0\n",
       "dtype: int64"
      ]
     },
     "execution_count": 11,
     "metadata": {},
     "output_type": "execute_result"
    }
   ],
   "source": [
    "#reviews = reviews.dropna()\n",
    "reviews.isnull().sum()"
   ]
  },
  {
   "cell_type": "markdown",
   "id": "5ea95ea8",
   "metadata": {
    "papermill": {
     "duration": 0.066971,
     "end_time": "2022-05-08T15:07:57.803220",
     "exception": false,
     "start_time": "2022-05-08T15:07:57.736249",
     "status": "completed"
    },
    "tags": []
   },
   "source": [
    "# **Deciding on nature of Sentiment**\n",
    "The sentiments of review is decided on the overall score. It means that \n",
    "1. if the score is greater than 3, the sentiment is *Positive* \n",
    "2. if the value is less than 3, the sentiment is *Negative*\n",
    "3. and if it is equal to 3, the sentiment is *Neutral*."
   ]
  },
  {
   "cell_type": "code",
   "execution_count": 12,
   "id": "01210292",
   "metadata": {
    "execution": {
     "iopub.execute_input": "2022-05-08T15:07:57.938386Z",
     "iopub.status.busy": "2022-05-08T15:07:57.937871Z",
     "iopub.status.idle": "2022-05-08T15:07:57.947393Z",
     "shell.execute_reply": "2022-05-08T15:07:57.946379Z"
    },
    "papermill": {
     "duration": 0.079602,
     "end_time": "2022-05-08T15:07:57.949195",
     "exception": false,
     "start_time": "2022-05-08T15:07:57.869593",
     "status": "completed"
    },
    "tags": []
   },
   "outputs": [
    {
     "name": "stdout",
     "output_type": "stream",
     "text": [
      "The distribution of categories of sentiment:\n"
     ]
    },
    {
     "data": {
      "text/plain": [
       "overall\n",
       "5.0    6938\n",
       "4.0    2084\n",
       "3.0     772\n",
       "2.0     250\n",
       "1.0     217\n",
       "Name: count, dtype: int64"
      ]
     },
     "execution_count": 12,
     "metadata": {},
     "output_type": "execute_result"
    }
   ],
   "source": [
    "print('The distribution of categories of sentiment:') \n",
    "reviews['overall'].value_counts()"
   ]
  },
  {
   "cell_type": "markdown",
   "id": "8641beaf",
   "metadata": {
    "papermill": {
     "duration": 0.066578,
     "end_time": "2022-05-08T15:07:58.084494",
     "exception": false,
     "start_time": "2022-05-08T15:07:58.017916",
     "status": "completed"
    },
    "tags": []
   },
   "source": [
    "Combining *reviewtext* and *summary* column will not contradict the nature of sentiments."
   ]
  },
  {
   "cell_type": "code",
   "execution_count": 13,
   "id": "93b2ba55",
   "metadata": {
    "execution": {
     "iopub.execute_input": "2022-05-08T15:07:58.219926Z",
     "iopub.status.busy": "2022-05-08T15:07:58.219412Z",
     "iopub.status.idle": "2022-05-08T15:07:58.243889Z",
     "shell.execute_reply": "2022-05-08T15:07:58.243326Z"
    },
    "papermill": {
     "duration": 0.094568,
     "end_time": "2022-05-08T15:07:58.245643",
     "exception": false,
     "start_time": "2022-05-08T15:07:58.151075",
     "status": "completed"
    },
    "tags": []
   },
   "outputs": [
    {
     "data": {
      "text/html": [
       "<div>\n",
       "<style scoped>\n",
       "    .dataframe tbody tr th:only-of-type {\n",
       "        vertical-align: middle;\n",
       "    }\n",
       "\n",
       "    .dataframe tbody tr th {\n",
       "        vertical-align: top;\n",
       "    }\n",
       "\n",
       "    .dataframe thead th {\n",
       "        text-align: right;\n",
       "    }\n",
       "</style>\n",
       "<table border=\"1\" class=\"dataframe\">\n",
       "  <thead>\n",
       "    <tr style=\"text-align: right;\">\n",
       "      <th></th>\n",
       "      <th>reviewerID</th>\n",
       "      <th>asin</th>\n",
       "      <th>reviewerName</th>\n",
       "      <th>helpful</th>\n",
       "      <th>overall</th>\n",
       "      <th>unixReviewTime</th>\n",
       "      <th>reviewTime</th>\n",
       "      <th>reviews</th>\n",
       "    </tr>\n",
       "  </thead>\n",
       "  <tbody>\n",
       "    <tr>\n",
       "      <th>0</th>\n",
       "      <td>A2IBPI20UZIR0U</td>\n",
       "      <td>1384719342</td>\n",
       "      <td>cassandra tu \"Yeah, well, that's just like, u...</td>\n",
       "      <td>[0, 0]</td>\n",
       "      <td>5.0</td>\n",
       "      <td>1393545600</td>\n",
       "      <td>02 28, 2014</td>\n",
       "      <td>Not much to write about here, but it does exac...</td>\n",
       "    </tr>\n",
       "    <tr>\n",
       "      <th>1</th>\n",
       "      <td>A14VAT5EAX3D9S</td>\n",
       "      <td>1384719342</td>\n",
       "      <td>Jake</td>\n",
       "      <td>[13, 14]</td>\n",
       "      <td>5.0</td>\n",
       "      <td>1363392000</td>\n",
       "      <td>03 16, 2013</td>\n",
       "      <td>The product does exactly as it should and is q...</td>\n",
       "    </tr>\n",
       "    <tr>\n",
       "      <th>2</th>\n",
       "      <td>A195EZSQDW3E21</td>\n",
       "      <td>1384719342</td>\n",
       "      <td>Rick Bennette \"Rick Bennette\"</td>\n",
       "      <td>[1, 1]</td>\n",
       "      <td>5.0</td>\n",
       "      <td>1377648000</td>\n",
       "      <td>08 28, 2013</td>\n",
       "      <td>The primary job of this device is to block the...</td>\n",
       "    </tr>\n",
       "    <tr>\n",
       "      <th>3</th>\n",
       "      <td>A2C00NNG1ZQQG2</td>\n",
       "      <td>1384719342</td>\n",
       "      <td>RustyBill \"Sunday Rocker\"</td>\n",
       "      <td>[0, 0]</td>\n",
       "      <td>5.0</td>\n",
       "      <td>1392336000</td>\n",
       "      <td>02 14, 2014</td>\n",
       "      <td>Nice windscreen protects my MXL mic and preven...</td>\n",
       "    </tr>\n",
       "    <tr>\n",
       "      <th>4</th>\n",
       "      <td>A94QU4C90B1AX</td>\n",
       "      <td>1384719342</td>\n",
       "      <td>SEAN MASLANKA</td>\n",
       "      <td>[0, 0]</td>\n",
       "      <td>5.0</td>\n",
       "      <td>1392940800</td>\n",
       "      <td>02 21, 2014</td>\n",
       "      <td>This pop filter is great. It looks and perform...</td>\n",
       "    </tr>\n",
       "  </tbody>\n",
       "</table>\n",
       "</div>"
      ],
      "text/plain": [
       "       reviewerID        asin  \\\n",
       "0  A2IBPI20UZIR0U  1384719342   \n",
       "1  A14VAT5EAX3D9S  1384719342   \n",
       "2  A195EZSQDW3E21  1384719342   \n",
       "3  A2C00NNG1ZQQG2  1384719342   \n",
       "4   A94QU4C90B1AX  1384719342   \n",
       "\n",
       "                                       reviewerName   helpful  overall  \\\n",
       "0  cassandra tu \"Yeah, well, that's just like, u...    [0, 0]      5.0   \n",
       "1                                              Jake  [13, 14]      5.0   \n",
       "2                     Rick Bennette \"Rick Bennette\"    [1, 1]      5.0   \n",
       "3                         RustyBill \"Sunday Rocker\"    [0, 0]      5.0   \n",
       "4                                     SEAN MASLANKA    [0, 0]      5.0   \n",
       "\n",
       "   unixReviewTime   reviewTime  \\\n",
       "0      1393545600  02 28, 2014   \n",
       "1      1363392000  03 16, 2013   \n",
       "2      1377648000  08 28, 2013   \n",
       "3      1392336000  02 14, 2014   \n",
       "4      1392940800  02 21, 2014   \n",
       "\n",
       "                                             reviews  \n",
       "0  Not much to write about here, but it does exac...  \n",
       "1  The product does exactly as it should and is q...  \n",
       "2  The primary job of this device is to block the...  \n",
       "3  Nice windscreen protects my MXL mic and preven...  \n",
       "4  This pop filter is great. It looks and perform...  "
      ]
     },
     "execution_count": 13,
     "metadata": {},
     "output_type": "execute_result"
    }
   ],
   "source": [
    "reviews['reviews'] = reviews['reviewText'] + reviews['summary']\n",
    "reviews = reviews.drop(['reviewText', 'summary'], axis=1)\n",
    "reviews.head()"
   ]
  },
  {
   "cell_type": "markdown",
   "id": "db072e4c",
   "metadata": {
    "papermill": {
     "duration": 0.06725,
     "end_time": "2022-05-08T15:07:58.380498",
     "exception": false,
     "start_time": "2022-05-08T15:07:58.313248",
     "status": "completed"
    },
    "tags": []
   },
   "source": [
    "# **Creating a *Sentiment* Column in our dataset as label.**"
   ]
  },
  {
   "cell_type": "code",
   "execution_count": 14,
   "id": "ae1b5bb8",
   "metadata": {
    "execution": {
     "iopub.execute_input": "2022-05-08T15:07:58.517729Z",
     "iopub.status.busy": "2022-05-08T15:07:58.517179Z",
     "iopub.status.idle": "2022-05-08T15:07:58.521113Z",
     "shell.execute_reply": "2022-05-08T15:07:58.520535Z"
    },
    "papermill": {
     "duration": 0.074683,
     "end_time": "2022-05-08T15:07:58.523119",
     "exception": false,
     "start_time": "2022-05-08T15:07:58.448436",
     "status": "completed"
    },
    "tags": []
   },
   "outputs": [],
   "source": [
    "def sent(rating):\n",
    "    if rating['overall'] == 3:\n",
    "        value = 'Neutral'\n",
    "    elif rating['overall'] > 3:\n",
    "        value = 'Positive'\n",
    "    else:\n",
    "        value = 'Negative'\n",
    "    return value"
   ]
  },
  {
   "cell_type": "code",
   "execution_count": 15,
   "id": "1405d2a8",
   "metadata": {
    "execution": {
     "iopub.execute_input": "2022-05-08T15:07:58.662099Z",
     "iopub.status.busy": "2022-05-08T15:07:58.661528Z",
     "iopub.status.idle": "2022-05-08T15:07:58.798692Z",
     "shell.execute_reply": "2022-05-08T15:07:58.797838Z"
    },
    "papermill": {
     "duration": 0.20874,
     "end_time": "2022-05-08T15:07:58.800597",
     "exception": false,
     "start_time": "2022-05-08T15:07:58.591857",
     "status": "completed"
    },
    "tags": []
   },
   "outputs": [
    {
     "data": {
      "text/html": [
       "<div>\n",
       "<style scoped>\n",
       "    .dataframe tbody tr th:only-of-type {\n",
       "        vertical-align: middle;\n",
       "    }\n",
       "\n",
       "    .dataframe tbody tr th {\n",
       "        vertical-align: top;\n",
       "    }\n",
       "\n",
       "    .dataframe thead th {\n",
       "        text-align: right;\n",
       "    }\n",
       "</style>\n",
       "<table border=\"1\" class=\"dataframe\">\n",
       "  <thead>\n",
       "    <tr style=\"text-align: right;\">\n",
       "      <th></th>\n",
       "      <th>reviewerID</th>\n",
       "      <th>asin</th>\n",
       "      <th>reviewerName</th>\n",
       "      <th>helpful</th>\n",
       "      <th>overall</th>\n",
       "      <th>unixReviewTime</th>\n",
       "      <th>reviewTime</th>\n",
       "      <th>reviews</th>\n",
       "      <th>Sentiment</th>\n",
       "    </tr>\n",
       "  </thead>\n",
       "  <tbody>\n",
       "    <tr>\n",
       "      <th>0</th>\n",
       "      <td>A2IBPI20UZIR0U</td>\n",
       "      <td>1384719342</td>\n",
       "      <td>cassandra tu \"Yeah, well, that's just like, u...</td>\n",
       "      <td>[0, 0]</td>\n",
       "      <td>5.0</td>\n",
       "      <td>1393545600</td>\n",
       "      <td>02 28, 2014</td>\n",
       "      <td>Not much to write about here, but it does exac...</td>\n",
       "      <td>Positive</td>\n",
       "    </tr>\n",
       "    <tr>\n",
       "      <th>1</th>\n",
       "      <td>A14VAT5EAX3D9S</td>\n",
       "      <td>1384719342</td>\n",
       "      <td>Jake</td>\n",
       "      <td>[13, 14]</td>\n",
       "      <td>5.0</td>\n",
       "      <td>1363392000</td>\n",
       "      <td>03 16, 2013</td>\n",
       "      <td>The product does exactly as it should and is q...</td>\n",
       "      <td>Positive</td>\n",
       "    </tr>\n",
       "    <tr>\n",
       "      <th>2</th>\n",
       "      <td>A195EZSQDW3E21</td>\n",
       "      <td>1384719342</td>\n",
       "      <td>Rick Bennette \"Rick Bennette\"</td>\n",
       "      <td>[1, 1]</td>\n",
       "      <td>5.0</td>\n",
       "      <td>1377648000</td>\n",
       "      <td>08 28, 2013</td>\n",
       "      <td>The primary job of this device is to block the...</td>\n",
       "      <td>Positive</td>\n",
       "    </tr>\n",
       "    <tr>\n",
       "      <th>3</th>\n",
       "      <td>A2C00NNG1ZQQG2</td>\n",
       "      <td>1384719342</td>\n",
       "      <td>RustyBill \"Sunday Rocker\"</td>\n",
       "      <td>[0, 0]</td>\n",
       "      <td>5.0</td>\n",
       "      <td>1392336000</td>\n",
       "      <td>02 14, 2014</td>\n",
       "      <td>Nice windscreen protects my MXL mic and preven...</td>\n",
       "      <td>Positive</td>\n",
       "    </tr>\n",
       "    <tr>\n",
       "      <th>4</th>\n",
       "      <td>A94QU4C90B1AX</td>\n",
       "      <td>1384719342</td>\n",
       "      <td>SEAN MASLANKA</td>\n",
       "      <td>[0, 0]</td>\n",
       "      <td>5.0</td>\n",
       "      <td>1392940800</td>\n",
       "      <td>02 21, 2014</td>\n",
       "      <td>This pop filter is great. It looks and perform...</td>\n",
       "      <td>Positive</td>\n",
       "    </tr>\n",
       "  </tbody>\n",
       "</table>\n",
       "</div>"
      ],
      "text/plain": [
       "       reviewerID        asin  \\\n",
       "0  A2IBPI20UZIR0U  1384719342   \n",
       "1  A14VAT5EAX3D9S  1384719342   \n",
       "2  A195EZSQDW3E21  1384719342   \n",
       "3  A2C00NNG1ZQQG2  1384719342   \n",
       "4   A94QU4C90B1AX  1384719342   \n",
       "\n",
       "                                       reviewerName   helpful  overall  \\\n",
       "0  cassandra tu \"Yeah, well, that's just like, u...    [0, 0]      5.0   \n",
       "1                                              Jake  [13, 14]      5.0   \n",
       "2                     Rick Bennette \"Rick Bennette\"    [1, 1]      5.0   \n",
       "3                         RustyBill \"Sunday Rocker\"    [0, 0]      5.0   \n",
       "4                                     SEAN MASLANKA    [0, 0]      5.0   \n",
       "\n",
       "   unixReviewTime   reviewTime  \\\n",
       "0      1393545600  02 28, 2014   \n",
       "1      1363392000  03 16, 2013   \n",
       "2      1377648000  08 28, 2013   \n",
       "3      1392336000  02 14, 2014   \n",
       "4      1392940800  02 21, 2014   \n",
       "\n",
       "                                             reviews Sentiment  \n",
       "0  Not much to write about here, but it does exac...  Positive  \n",
       "1  The product does exactly as it should and is q...  Positive  \n",
       "2  The primary job of this device is to block the...  Positive  \n",
       "3  Nice windscreen protects my MXL mic and preven...  Positive  \n",
       "4  This pop filter is great. It looks and perform...  Positive  "
      ]
     },
     "execution_count": 15,
     "metadata": {},
     "output_type": "execute_result"
    }
   ],
   "source": [
    "#Applying the function in our new column\n",
    "reviews['Sentiment'] = reviews.apply(sent, axis=1)\n",
    "reviews.head()"
   ]
  },
  {
   "cell_type": "code",
   "execution_count": 16,
   "id": "c40198b3",
   "metadata": {
    "execution": {
     "iopub.execute_input": "2022-05-08T15:07:58.939331Z",
     "iopub.status.busy": "2022-05-08T15:07:58.938799Z",
     "iopub.status.idle": "2022-05-08T15:07:58.946829Z",
     "shell.execute_reply": "2022-05-08T15:07:58.946300Z"
    },
    "papermill": {
     "duration": 0.079707,
     "end_time": "2022-05-08T15:07:58.948426",
     "exception": false,
     "start_time": "2022-05-08T15:07:58.868719",
     "status": "completed"
    },
    "tags": []
   },
   "outputs": [
    {
     "name": "stdout",
     "output_type": "stream",
     "text": [
      "The count of sentiments:\n"
     ]
    },
    {
     "data": {
      "text/plain": [
       "Sentiment\n",
       "Positive    9022\n",
       "Neutral      772\n",
       "Negative     467\n",
       "Name: count, dtype: int64"
      ]
     },
     "execution_count": 16,
     "metadata": {},
     "output_type": "execute_result"
    }
   ],
   "source": [
    "print('The count of sentiments:')\n",
    "reviews['Sentiment'].value_counts()"
   ]
  },
  {
   "cell_type": "code",
   "execution_count": 17,
   "id": "623d6963",
   "metadata": {
    "execution": {
     "iopub.execute_input": "2022-05-08T15:07:59.086863Z",
     "iopub.status.busy": "2022-05-08T15:07:59.086586Z",
     "iopub.status.idle": "2022-05-08T15:07:59.137579Z",
     "shell.execute_reply": "2022-05-08T15:07:59.136722Z"
    },
    "papermill": {
     "duration": 0.122739,
     "end_time": "2022-05-08T15:07:59.139512",
     "exception": false,
     "start_time": "2022-05-08T15:07:59.016773",
     "status": "completed"
    },
    "tags": []
   },
   "outputs": [
    {
     "data": {
      "text/html": [
       "<div>\n",
       "<style scoped>\n",
       "    .dataframe tbody tr th:only-of-type {\n",
       "        vertical-align: middle;\n",
       "    }\n",
       "\n",
       "    .dataframe tbody tr th {\n",
       "        vertical-align: top;\n",
       "    }\n",
       "\n",
       "    .dataframe thead th {\n",
       "        text-align: right;\n",
       "    }\n",
       "</style>\n",
       "<table border=\"1\" class=\"dataframe\">\n",
       "  <thead>\n",
       "    <tr style=\"text-align: right;\">\n",
       "      <th></th>\n",
       "      <th>reviewerID</th>\n",
       "      <th>asin</th>\n",
       "      <th>reviewerName</th>\n",
       "      <th>helpful</th>\n",
       "      <th>overall</th>\n",
       "      <th>unixReviewTime</th>\n",
       "      <th>reviews</th>\n",
       "      <th>Sentiment</th>\n",
       "      <th>year</th>\n",
       "      <th>month</th>\n",
       "      <th>day</th>\n",
       "    </tr>\n",
       "  </thead>\n",
       "  <tbody>\n",
       "    <tr>\n",
       "      <th>0</th>\n",
       "      <td>A2IBPI20UZIR0U</td>\n",
       "      <td>1384719342</td>\n",
       "      <td>cassandra tu \"Yeah, well, that's just like, u...</td>\n",
       "      <td>[0, 0]</td>\n",
       "      <td>5.0</td>\n",
       "      <td>1393545600</td>\n",
       "      <td>Not much to write about here, but it does exac...</td>\n",
       "      <td>Positive</td>\n",
       "      <td>2014</td>\n",
       "      <td>02</td>\n",
       "      <td>28</td>\n",
       "    </tr>\n",
       "    <tr>\n",
       "      <th>1</th>\n",
       "      <td>A14VAT5EAX3D9S</td>\n",
       "      <td>1384719342</td>\n",
       "      <td>Jake</td>\n",
       "      <td>[13, 14]</td>\n",
       "      <td>5.0</td>\n",
       "      <td>1363392000</td>\n",
       "      <td>The product does exactly as it should and is q...</td>\n",
       "      <td>Positive</td>\n",
       "      <td>2013</td>\n",
       "      <td>03</td>\n",
       "      <td>16</td>\n",
       "    </tr>\n",
       "    <tr>\n",
       "      <th>2</th>\n",
       "      <td>A195EZSQDW3E21</td>\n",
       "      <td>1384719342</td>\n",
       "      <td>Rick Bennette \"Rick Bennette\"</td>\n",
       "      <td>[1, 1]</td>\n",
       "      <td>5.0</td>\n",
       "      <td>1377648000</td>\n",
       "      <td>The primary job of this device is to block the...</td>\n",
       "      <td>Positive</td>\n",
       "      <td>2013</td>\n",
       "      <td>08</td>\n",
       "      <td>28</td>\n",
       "    </tr>\n",
       "    <tr>\n",
       "      <th>3</th>\n",
       "      <td>A2C00NNG1ZQQG2</td>\n",
       "      <td>1384719342</td>\n",
       "      <td>RustyBill \"Sunday Rocker\"</td>\n",
       "      <td>[0, 0]</td>\n",
       "      <td>5.0</td>\n",
       "      <td>1392336000</td>\n",
       "      <td>Nice windscreen protects my MXL mic and preven...</td>\n",
       "      <td>Positive</td>\n",
       "      <td>2014</td>\n",
       "      <td>02</td>\n",
       "      <td>14</td>\n",
       "    </tr>\n",
       "    <tr>\n",
       "      <th>4</th>\n",
       "      <td>A94QU4C90B1AX</td>\n",
       "      <td>1384719342</td>\n",
       "      <td>SEAN MASLANKA</td>\n",
       "      <td>[0, 0]</td>\n",
       "      <td>5.0</td>\n",
       "      <td>1392940800</td>\n",
       "      <td>This pop filter is great. It looks and perform...</td>\n",
       "      <td>Positive</td>\n",
       "      <td>2014</td>\n",
       "      <td>02</td>\n",
       "      <td>21</td>\n",
       "    </tr>\n",
       "  </tbody>\n",
       "</table>\n",
       "</div>"
      ],
      "text/plain": [
       "       reviewerID        asin  \\\n",
       "0  A2IBPI20UZIR0U  1384719342   \n",
       "1  A14VAT5EAX3D9S  1384719342   \n",
       "2  A195EZSQDW3E21  1384719342   \n",
       "3  A2C00NNG1ZQQG2  1384719342   \n",
       "4   A94QU4C90B1AX  1384719342   \n",
       "\n",
       "                                       reviewerName   helpful  overall  \\\n",
       "0  cassandra tu \"Yeah, well, that's just like, u...    [0, 0]      5.0   \n",
       "1                                              Jake  [13, 14]      5.0   \n",
       "2                     Rick Bennette \"Rick Bennette\"    [1, 1]      5.0   \n",
       "3                         RustyBill \"Sunday Rocker\"    [0, 0]      5.0   \n",
       "4                                     SEAN MASLANKA    [0, 0]      5.0   \n",
       "\n",
       "   unixReviewTime                                            reviews  \\\n",
       "0      1393545600  Not much to write about here, but it does exac...   \n",
       "1      1363392000  The product does exactly as it should and is q...   \n",
       "2      1377648000  The primary job of this device is to block the...   \n",
       "3      1392336000  Nice windscreen protects my MXL mic and preven...   \n",
       "4      1392940800  This pop filter is great. It looks and perform...   \n",
       "\n",
       "  Sentiment   year month day  \n",
       "0  Positive   2014    02  28  \n",
       "1  Positive   2013    03  16  \n",
       "2  Positive   2013    08  28  \n",
       "3  Positive   2014    02  14  \n",
       "4  Positive   2014    02  21  "
      ]
     },
     "execution_count": 17,
     "metadata": {},
     "output_type": "execute_result"
    }
   ],
   "source": [
    "# Splitting the date \n",
    "re_new = reviews[\"reviewTime\"].str.split(\",\", n = 1, expand = True) \n",
    "  \n",
    "# adding month to the main dataset \n",
    "reviews[\"date\"] = re_new[0] \n",
    "  \n",
    "# adding day to the main dataset \n",
    "reviews[\"year\"] = re_new[1] \n",
    "\n",
    "re_new1 = reviews[\"date\"].str.split(\" \", n = 1, expand = True) \n",
    "\n",
    "# adding month to the main dataset \n",
    "reviews[\"month\"] = re_new1[0] \n",
    "\n",
    "# adding day to the main dataset \n",
    "reviews[\"day\"] = re_new1[1]\n",
    "\n",
    "reviews = reviews.drop(['reviewTime', 'date'], axis=1)\n",
    "reviews.head() "
   ]
  },
  {
   "cell_type": "code",
   "execution_count": 18,
   "id": "2412a317",
   "metadata": {
    "execution": {
     "iopub.execute_input": "2022-05-08T15:07:59.280581Z",
     "iopub.status.busy": "2022-05-08T15:07:59.279807Z",
     "iopub.status.idle": "2022-05-08T15:07:59.289337Z",
     "shell.execute_reply": "2022-05-08T15:07:59.288526Z"
    },
    "papermill": {
     "duration": 0.084451,
     "end_time": "2022-05-08T15:07:59.292978",
     "exception": false,
     "start_time": "2022-05-08T15:07:59.208527",
     "status": "completed"
    },
    "tags": []
   },
   "outputs": [
    {
     "name": "stdout",
     "output_type": "stream",
     "text": [
      "The year - wise count of reviews:\n"
     ]
    },
    {
     "data": {
      "text/plain": [
       "year\n",
       "2013    4055\n",
       "2014    2679\n",
       "2012    1936\n",
       "2011    1007\n",
       "2010     350\n",
       "2009     128\n",
       "2008      63\n",
       "2007      22\n",
       "2006      10\n",
       "2004       7\n",
       "2005       4\n",
       "Name: count, dtype: int64"
      ]
     },
     "execution_count": 18,
     "metadata": {},
     "output_type": "execute_result"
    }
   ],
   "source": [
    "print('The year - wise count of reviews:')\n",
    "reviews['year'].value_counts()"
   ]
  },
  {
   "cell_type": "code",
   "execution_count": 19,
   "id": "04ab7f0e",
   "metadata": {
    "execution": {
     "iopub.execute_input": "2022-05-08T15:07:59.443629Z",
     "iopub.status.busy": "2022-05-08T15:07:59.443020Z",
     "iopub.status.idle": "2022-05-08T15:07:59.458844Z",
     "shell.execute_reply": "2022-05-08T15:07:59.457967Z"
    },
    "papermill": {
     "duration": 0.097498,
     "end_time": "2022-05-08T15:07:59.460810",
     "exception": false,
     "start_time": "2022-05-08T15:07:59.363312",
     "status": "completed"
    },
    "tags": []
   },
   "outputs": [
    {
     "name": "stdout",
     "output_type": "stream",
     "text": [
      "Year - wise count of sentiments:\n"
     ]
    },
    {
     "data": {
      "text/plain": [
       "year  Sentiment\n",
       "2004  Positive        7\n",
       "2005  Positive        4\n",
       "2006  Negative        1\n",
       "      Neutral         1\n",
       "      Positive        8\n",
       "2007  Negative        1\n",
       "      Positive       21\n",
       "2008  Negative        2\n",
       "      Neutral         7\n",
       "      Positive       54\n",
       "2009  Negative        5\n",
       "      Neutral         8\n",
       "      Positive      115\n",
       "2010  Negative       16\n",
       "      Neutral        20\n",
       "      Positive      314\n",
       "2011  Negative       46\n",
       "      Neutral        84\n",
       "      Positive      877\n",
       "2012  Negative       85\n",
       "      Neutral       130\n",
       "      Positive     1721\n",
       "2013  Negative      170\n",
       "      Neutral       319\n",
       "      Positive     3566\n",
       "2014  Negative      141\n",
       "      Neutral       203\n",
       "      Positive     2335\n",
       "dtype: int64"
      ]
     },
     "execution_count": 19,
     "metadata": {},
     "output_type": "execute_result"
    }
   ],
   "source": [
    "print('Year - wise count of sentiments:')\n",
    "reviews.groupby(['year','Sentiment']).size()"
   ]
  },
  {
   "cell_type": "markdown",
   "id": "36cc94eb",
   "metadata": {
    "papermill": {
     "duration": 0.076438,
     "end_time": "2022-05-08T15:07:59.630041",
     "exception": false,
     "start_time": "2022-05-08T15:07:59.553603",
     "status": "completed"
    },
    "tags": []
   },
   "source": [
    "This shows that *Negative* sentiment reviews were increased during the year 2013 and 2014."
   ]
  },
  {
   "cell_type": "markdown",
   "id": "39c480ce",
   "metadata": {
    "papermill": {
     "duration": 0.088523,
     "end_time": "2022-05-08T15:07:59.789860",
     "exception": false,
     "start_time": "2022-05-08T15:07:59.701337",
     "status": "completed"
    },
    "tags": []
   },
   "source": [
    "# **Finding the *helpfulness* of the review**\n",
    "The *helpful* feature in the datset has values in list [a,b] format, which means that *a* out of *b* people found that review helpful. But with this format, it will be difficult to decrypt the meaning for the machine as it could not add value to the machine learning model. A *helpful_review* feature is created which returns a/b value from [a,b]. "
   ]
  },
  {
   "cell_type": "code",
   "execution_count": 20,
   "id": "1f591fdf",
   "metadata": {
    "execution": {
     "iopub.execute_input": "2022-05-08T15:07:59.934478Z",
     "iopub.status.busy": "2022-05-08T15:07:59.933531Z",
     "iopub.status.idle": "2022-05-08T15:08:00.123699Z",
     "shell.execute_reply": "2022-05-08T15:08:00.122860Z"
    },
    "papermill": {
     "duration": 0.264895,
     "end_time": "2022-05-08T15:08:00.125667",
     "exception": false,
     "start_time": "2022-05-08T15:07:59.860772",
     "status": "completed"
    },
    "tags": []
   },
   "outputs": [
    {
     "data": {
      "text/html": [
       "<div>\n",
       "<style scoped>\n",
       "    .dataframe tbody tr th:only-of-type {\n",
       "        vertical-align: middle;\n",
       "    }\n",
       "\n",
       "    .dataframe tbody tr th {\n",
       "        vertical-align: top;\n",
       "    }\n",
       "\n",
       "    .dataframe thead th {\n",
       "        text-align: right;\n",
       "    }\n",
       "</style>\n",
       "<table border=\"1\" class=\"dataframe\">\n",
       "  <thead>\n",
       "    <tr style=\"text-align: right;\">\n",
       "      <th></th>\n",
       "      <th>reviewerID</th>\n",
       "      <th>asin</th>\n",
       "      <th>reviewerName</th>\n",
       "      <th>helpful</th>\n",
       "      <th>overall</th>\n",
       "      <th>unixReviewTime</th>\n",
       "      <th>reviews</th>\n",
       "      <th>Sentiment</th>\n",
       "      <th>year</th>\n",
       "      <th>month</th>\n",
       "      <th>day</th>\n",
       "    </tr>\n",
       "  </thead>\n",
       "  <tbody>\n",
       "    <tr>\n",
       "      <th>0</th>\n",
       "      <td>A2IBPI20UZIR0U</td>\n",
       "      <td>1384719342</td>\n",
       "      <td>cassandra tu \"Yeah, well, that's just like, u...</td>\n",
       "      <td>[0, 0]</td>\n",
       "      <td>5.0</td>\n",
       "      <td>1393545600</td>\n",
       "      <td>Not much to write about here, but it does exac...</td>\n",
       "      <td>Positive</td>\n",
       "      <td>2014</td>\n",
       "      <td>02</td>\n",
       "      <td>28</td>\n",
       "    </tr>\n",
       "    <tr>\n",
       "      <th>1</th>\n",
       "      <td>A14VAT5EAX3D9S</td>\n",
       "      <td>1384719342</td>\n",
       "      <td>Jake</td>\n",
       "      <td>[13, 14]</td>\n",
       "      <td>5.0</td>\n",
       "      <td>1363392000</td>\n",
       "      <td>The product does exactly as it should and is q...</td>\n",
       "      <td>Positive</td>\n",
       "      <td>2013</td>\n",
       "      <td>03</td>\n",
       "      <td>16</td>\n",
       "    </tr>\n",
       "    <tr>\n",
       "      <th>2</th>\n",
       "      <td>A195EZSQDW3E21</td>\n",
       "      <td>1384719342</td>\n",
       "      <td>Rick Bennette \"Rick Bennette\"</td>\n",
       "      <td>[1, 1]</td>\n",
       "      <td>5.0</td>\n",
       "      <td>1377648000</td>\n",
       "      <td>The primary job of this device is to block the...</td>\n",
       "      <td>Positive</td>\n",
       "      <td>2013</td>\n",
       "      <td>08</td>\n",
       "      <td>28</td>\n",
       "    </tr>\n",
       "    <tr>\n",
       "      <th>3</th>\n",
       "      <td>A2C00NNG1ZQQG2</td>\n",
       "      <td>1384719342</td>\n",
       "      <td>RustyBill \"Sunday Rocker\"</td>\n",
       "      <td>[0, 0]</td>\n",
       "      <td>5.0</td>\n",
       "      <td>1392336000</td>\n",
       "      <td>Nice windscreen protects my MXL mic and preven...</td>\n",
       "      <td>Positive</td>\n",
       "      <td>2014</td>\n",
       "      <td>02</td>\n",
       "      <td>14</td>\n",
       "    </tr>\n",
       "    <tr>\n",
       "      <th>4</th>\n",
       "      <td>A94QU4C90B1AX</td>\n",
       "      <td>1384719342</td>\n",
       "      <td>SEAN MASLANKA</td>\n",
       "      <td>[0, 0]</td>\n",
       "      <td>5.0</td>\n",
       "      <td>1392940800</td>\n",
       "      <td>This pop filter is great. It looks and perform...</td>\n",
       "      <td>Positive</td>\n",
       "      <td>2014</td>\n",
       "      <td>02</td>\n",
       "      <td>21</td>\n",
       "    </tr>\n",
       "  </tbody>\n",
       "</table>\n",
       "</div>"
      ],
      "text/plain": [
       "       reviewerID        asin  \\\n",
       "0  A2IBPI20UZIR0U  1384719342   \n",
       "1  A14VAT5EAX3D9S  1384719342   \n",
       "2  A195EZSQDW3E21  1384719342   \n",
       "3  A2C00NNG1ZQQG2  1384719342   \n",
       "4   A94QU4C90B1AX  1384719342   \n",
       "\n",
       "                                       reviewerName   helpful  overall  \\\n",
       "0  cassandra tu \"Yeah, well, that's just like, u...    [0, 0]      5.0   \n",
       "1                                              Jake  [13, 14]      5.0   \n",
       "2                     Rick Bennette \"Rick Bennette\"    [1, 1]      5.0   \n",
       "3                         RustyBill \"Sunday Rocker\"    [0, 0]      5.0   \n",
       "4                                     SEAN MASLANKA    [0, 0]      5.0   \n",
       "\n",
       "   unixReviewTime                                            reviews  \\\n",
       "0      1393545600  Not much to write about here, but it does exac...   \n",
       "1      1363392000  The product does exactly as it should and is q...   \n",
       "2      1377648000  The primary job of this device is to block the...   \n",
       "3      1392336000  Nice windscreen protects my MXL mic and preven...   \n",
       "4      1392940800  This pop filter is great. It looks and perform...   \n",
       "\n",
       "  Sentiment   year month day  \n",
       "0  Positive   2014    02  28  \n",
       "1  Positive   2013    03  16  \n",
       "2  Positive   2013    08  28  \n",
       "3  Positive   2014    02  14  \n",
       "4  Positive   2014    02  21  "
      ]
     },
     "execution_count": 20,
     "metadata": {},
     "output_type": "execute_result"
    }
   ],
   "source": [
    "newreview = reviews[\"helpful\"].str.split(\",\", n = 1, expand = True)\n",
    "newreview1 = newreview[0].str.split(\"[\", n = 1, expand = True)\n",
    "newreview2 = newreview[1].str.split(\"]\", n = 1, expand = True)\n",
    "\n",
    "#Resetting the index\n",
    "newreview1.reset_index(drop=True, inplace=True)\n",
    "newreview2.reset_index(drop=True, inplace=True)\n",
    "\n",
    "#Dropping empty columns due to splitting \n",
    "newreview1 = newreview1.drop([0], axis=1)\n",
    "newreview2 = newreview2.drop([1], axis=1)\n",
    "\n",
    "#Concatenating the splitted columns\n",
    "helpfulreview = pd.concat([newreview1, newreview2], axis=1)\n",
    "reviews.head()"
   ]
  },
  {
   "cell_type": "code",
   "execution_count": 21,
   "id": "730787dd",
   "metadata": {
    "execution": {
     "iopub.execute_input": "2022-05-08T15:08:00.269627Z",
     "iopub.status.busy": "2022-05-08T15:08:00.269371Z",
     "iopub.status.idle": "2022-05-08T15:08:00.295151Z",
     "shell.execute_reply": "2022-05-08T15:08:00.294299Z"
    },
    "papermill": {
     "duration": 0.100097,
     "end_time": "2022-05-08T15:08:00.297092",
     "exception": false,
     "start_time": "2022-05-08T15:08:00.196995",
     "status": "completed"
    },
    "tags": []
   },
   "outputs": [
    {
     "data": {
      "text/html": [
       "<div>\n",
       "<style scoped>\n",
       "    .dataframe tbody tr th:only-of-type {\n",
       "        vertical-align: middle;\n",
       "    }\n",
       "\n",
       "    .dataframe tbody tr th {\n",
       "        vertical-align: top;\n",
       "    }\n",
       "\n",
       "    .dataframe thead th {\n",
       "        text-align: right;\n",
       "    }\n",
       "</style>\n",
       "<table border=\"1\" class=\"dataframe\">\n",
       "  <thead>\n",
       "    <tr style=\"text-align: right;\">\n",
       "      <th></th>\n",
       "      <th>reviewerID</th>\n",
       "      <th>asin</th>\n",
       "      <th>reviewerName</th>\n",
       "      <th>overall</th>\n",
       "      <th>unixReviewTime</th>\n",
       "      <th>reviews</th>\n",
       "      <th>Sentiment</th>\n",
       "      <th>year</th>\n",
       "      <th>month</th>\n",
       "      <th>day</th>\n",
       "      <th>helpful_review</th>\n",
       "    </tr>\n",
       "  </thead>\n",
       "  <tbody>\n",
       "    <tr>\n",
       "      <th>0</th>\n",
       "      <td>A2IBPI20UZIR0U</td>\n",
       "      <td>1384719342</td>\n",
       "      <td>cassandra tu \"Yeah, well, that's just like, u...</td>\n",
       "      <td>5.0</td>\n",
       "      <td>1393545600</td>\n",
       "      <td>Not much to write about here, but it does exac...</td>\n",
       "      <td>Positive</td>\n",
       "      <td>2014</td>\n",
       "      <td>02</td>\n",
       "      <td>28</td>\n",
       "      <td>0.00</td>\n",
       "    </tr>\n",
       "    <tr>\n",
       "      <th>1</th>\n",
       "      <td>A14VAT5EAX3D9S</td>\n",
       "      <td>1384719342</td>\n",
       "      <td>Jake</td>\n",
       "      <td>5.0</td>\n",
       "      <td>1363392000</td>\n",
       "      <td>The product does exactly as it should and is q...</td>\n",
       "      <td>Positive</td>\n",
       "      <td>2013</td>\n",
       "      <td>03</td>\n",
       "      <td>16</td>\n",
       "      <td>0.93</td>\n",
       "    </tr>\n",
       "    <tr>\n",
       "      <th>2</th>\n",
       "      <td>A195EZSQDW3E21</td>\n",
       "      <td>1384719342</td>\n",
       "      <td>Rick Bennette \"Rick Bennette\"</td>\n",
       "      <td>5.0</td>\n",
       "      <td>1377648000</td>\n",
       "      <td>The primary job of this device is to block the...</td>\n",
       "      <td>Positive</td>\n",
       "      <td>2013</td>\n",
       "      <td>08</td>\n",
       "      <td>28</td>\n",
       "      <td>1.00</td>\n",
       "    </tr>\n",
       "    <tr>\n",
       "      <th>3</th>\n",
       "      <td>A2C00NNG1ZQQG2</td>\n",
       "      <td>1384719342</td>\n",
       "      <td>RustyBill \"Sunday Rocker\"</td>\n",
       "      <td>5.0</td>\n",
       "      <td>1392336000</td>\n",
       "      <td>Nice windscreen protects my MXL mic and preven...</td>\n",
       "      <td>Positive</td>\n",
       "      <td>2014</td>\n",
       "      <td>02</td>\n",
       "      <td>14</td>\n",
       "      <td>0.00</td>\n",
       "    </tr>\n",
       "    <tr>\n",
       "      <th>4</th>\n",
       "      <td>A94QU4C90B1AX</td>\n",
       "      <td>1384719342</td>\n",
       "      <td>SEAN MASLANKA</td>\n",
       "      <td>5.0</td>\n",
       "      <td>1392940800</td>\n",
       "      <td>This pop filter is great. It looks and perform...</td>\n",
       "      <td>Positive</td>\n",
       "      <td>2014</td>\n",
       "      <td>02</td>\n",
       "      <td>21</td>\n",
       "      <td>0.00</td>\n",
       "    </tr>\n",
       "  </tbody>\n",
       "</table>\n",
       "</div>"
      ],
      "text/plain": [
       "       reviewerID        asin  \\\n",
       "0  A2IBPI20UZIR0U  1384719342   \n",
       "1  A14VAT5EAX3D9S  1384719342   \n",
       "2  A195EZSQDW3E21  1384719342   \n",
       "3  A2C00NNG1ZQQG2  1384719342   \n",
       "4   A94QU4C90B1AX  1384719342   \n",
       "\n",
       "                                       reviewerName  overall  unixReviewTime  \\\n",
       "0  cassandra tu \"Yeah, well, that's just like, u...      5.0      1393545600   \n",
       "1                                              Jake      5.0      1363392000   \n",
       "2                     Rick Bennette \"Rick Bennette\"      5.0      1377648000   \n",
       "3                         RustyBill \"Sunday Rocker\"      5.0      1392336000   \n",
       "4                                     SEAN MASLANKA      5.0      1392940800   \n",
       "\n",
       "                                             reviews Sentiment   year month  \\\n",
       "0  Not much to write about here, but it does exac...  Positive   2014    02   \n",
       "1  The product does exactly as it should and is q...  Positive   2013    03   \n",
       "2  The primary job of this device is to block the...  Positive   2013    08   \n",
       "3  Nice windscreen protects my MXL mic and preven...  Positive   2014    02   \n",
       "4  This pop filter is great. It looks and perform...  Positive   2014    02   \n",
       "\n",
       "  day  helpful_review  \n",
       "0  28            0.00  \n",
       "1  16            0.93  \n",
       "2  28            1.00  \n",
       "3  14            0.00  \n",
       "4  21            0.00  "
      ]
     },
     "execution_count": 21,
     "metadata": {},
     "output_type": "execute_result"
    }
   ],
   "source": [
    "#Converting into integer types\n",
    "helpfulreview[0] = helpfulreview[0].astype(str).astype(int)\n",
    "helpfulreview[1] = helpfulreview[1].astype(str).astype(int)\n",
    "\n",
    "#Dividing the two columns, we have 0 in the second columns when dvided gives error, so I'm ignoring those errors\n",
    "try:\n",
    "  helpfulreview['result'] = helpfulreview[1]/helpfulreview[0]\n",
    "except ZeroDivisionError:\n",
    "  helpfulreview['result']=0\n",
    "\n",
    "#Filling the NaN values(created due to dividing) with 0\n",
    "helpfulreview['result'] = helpfulreview['result'].fillna(0)\n",
    "\n",
    "#Rounding of the results to two decimal places\n",
    "helpfulreview['result'] = helpfulreview['result'].round(2) \n",
    "\n",
    "#Attaching the results to a new column of the main dataframe\n",
    "reviews['helpful_review'] = helpfulreview['result']\n",
    "\n",
    "#dropping the helpful column from main dataframe\n",
    "reviews = reviews.drop(['helpful'], axis=1)\n",
    "reviews.head()"
   ]
  },
  {
   "cell_type": "code",
   "execution_count": 22,
   "id": "4603f37d",
   "metadata": {
    "execution": {
     "iopub.execute_input": "2022-05-08T15:08:00.440472Z",
     "iopub.status.busy": "2022-05-08T15:08:00.439942Z",
     "iopub.status.idle": "2022-05-08T15:08:00.448435Z",
     "shell.execute_reply": "2022-05-08T15:08:00.447775Z"
    },
    "papermill": {
     "duration": 0.082308,
     "end_time": "2022-05-08T15:08:00.450208",
     "exception": false,
     "start_time": "2022-05-08T15:08:00.367900",
     "status": "completed"
    },
    "tags": []
   },
   "outputs": [
    {
     "data": {
      "text/plain": [
       "helpful_review\n",
       "0.00    7215\n",
       "1.00    2040\n",
       "0.50     266\n",
       "0.67     136\n",
       "0.75     111\n",
       "        ... \n",
       "0.56       1\n",
       "0.15       1\n",
       "0.13       1\n",
       "0.43       1\n",
       "0.69       1\n",
       "Name: count, Length: 65, dtype: int64"
      ]
     },
     "execution_count": 22,
     "metadata": {},
     "output_type": "execute_result"
    }
   ],
   "source": [
    "reviews['helpful_review'].value_counts()"
   ]
  },
  {
   "cell_type": "markdown",
   "id": "5c372edd",
   "metadata": {
    "papermill": {
     "duration": 0.070673,
     "end_time": "2022-05-08T15:08:00.592472",
     "exception": false,
     "start_time": "2022-05-08T15:08:00.521799",
     "status": "completed"
    },
    "tags": []
   },
   "source": [
    "The helpful_review gives rate value between 0.00 and 1.00. \n",
    "1. 0.00 indicates that the review is not much helpful\n",
    "2. 1.00 indicates that the review is very helpful."
   ]
  },
  {
   "cell_type": "code",
   "execution_count": 23,
   "id": "44f5f589",
   "metadata": {
    "execution": {
     "iopub.execute_input": "2022-05-08T15:08:00.736600Z",
     "iopub.status.busy": "2022-05-08T15:08:00.736078Z",
     "iopub.status.idle": "2022-05-08T15:08:00.742134Z",
     "shell.execute_reply": "2022-05-08T15:08:00.741569Z"
    },
    "papermill": {
     "duration": 0.080246,
     "end_time": "2022-05-08T15:08:00.743923",
     "exception": false,
     "start_time": "2022-05-08T15:08:00.663677",
     "status": "completed"
    },
    "tags": []
   },
   "outputs": [],
   "source": [
    "#Removing unnecessary columns\n",
    "reviews = reviews.drop(['reviewerName','unixReviewTime'], axis=1)"
   ]
  },
  {
   "cell_type": "code",
   "execution_count": 24,
   "id": "0a9b8f01",
   "metadata": {
    "execution": {
     "iopub.execute_input": "2022-05-08T15:08:00.890678Z",
     "iopub.status.busy": "2022-05-08T15:08:00.890215Z",
     "iopub.status.idle": "2022-05-08T15:08:01.598567Z",
     "shell.execute_reply": "2022-05-08T15:08:01.597729Z"
    },
    "papermill": {
     "duration": 0.782866,
     "end_time": "2022-05-08T15:08:01.600380",
     "exception": false,
     "start_time": "2022-05-08T15:08:00.817514",
     "status": "completed"
    },
    "tags": []
   },
   "outputs": [
    {
     "data": {
      "text/html": [
       "<div>\n",
       "<style scoped>\n",
       "    .dataframe tbody tr th:only-of-type {\n",
       "        vertical-align: middle;\n",
       "    }\n",
       "\n",
       "    .dataframe tbody tr th {\n",
       "        vertical-align: top;\n",
       "    }\n",
       "\n",
       "    .dataframe thead th {\n",
       "        text-align: right;\n",
       "    }\n",
       "</style>\n",
       "<table border=\"1\" class=\"dataframe\">\n",
       "  <thead>\n",
       "    <tr style=\"text-align: right;\">\n",
       "      <th></th>\n",
       "      <th>reviewerID</th>\n",
       "      <th>asin</th>\n",
       "      <th>overall</th>\n",
       "      <th>reviews</th>\n",
       "      <th>Sentiment</th>\n",
       "      <th>year</th>\n",
       "      <th>month</th>\n",
       "      <th>day</th>\n",
       "      <th>helpful_review</th>\n",
       "    </tr>\n",
       "  </thead>\n",
       "  <tbody>\n",
       "    <tr>\n",
       "      <th>0</th>\n",
       "      <td>A2IBPI20UZIR0U</td>\n",
       "      <td>1384719342</td>\n",
       "      <td>5.0</td>\n",
       "      <td>not much to write about here but it does exact...</td>\n",
       "      <td>Positive</td>\n",
       "      <td>2014</td>\n",
       "      <td>02</td>\n",
       "      <td>28</td>\n",
       "      <td>0.00</td>\n",
       "    </tr>\n",
       "    <tr>\n",
       "      <th>1</th>\n",
       "      <td>A14VAT5EAX3D9S</td>\n",
       "      <td>1384719342</td>\n",
       "      <td>5.0</td>\n",
       "      <td>the product does exactly as it should and is q...</td>\n",
       "      <td>Positive</td>\n",
       "      <td>2013</td>\n",
       "      <td>03</td>\n",
       "      <td>16</td>\n",
       "      <td>0.93</td>\n",
       "    </tr>\n",
       "    <tr>\n",
       "      <th>2</th>\n",
       "      <td>A195EZSQDW3E21</td>\n",
       "      <td>1384719342</td>\n",
       "      <td>5.0</td>\n",
       "      <td>the primary job of this device is to block the...</td>\n",
       "      <td>Positive</td>\n",
       "      <td>2013</td>\n",
       "      <td>08</td>\n",
       "      <td>28</td>\n",
       "      <td>1.00</td>\n",
       "    </tr>\n",
       "    <tr>\n",
       "      <th>3</th>\n",
       "      <td>A2C00NNG1ZQQG2</td>\n",
       "      <td>1384719342</td>\n",
       "      <td>5.0</td>\n",
       "      <td>nice windscreen protects my mxl mic and preven...</td>\n",
       "      <td>Positive</td>\n",
       "      <td>2014</td>\n",
       "      <td>02</td>\n",
       "      <td>14</td>\n",
       "      <td>0.00</td>\n",
       "    </tr>\n",
       "    <tr>\n",
       "      <th>4</th>\n",
       "      <td>A94QU4C90B1AX</td>\n",
       "      <td>1384719342</td>\n",
       "      <td>5.0</td>\n",
       "      <td>this pop filter is great it looks and performs...</td>\n",
       "      <td>Positive</td>\n",
       "      <td>2014</td>\n",
       "      <td>02</td>\n",
       "      <td>21</td>\n",
       "      <td>0.00</td>\n",
       "    </tr>\n",
       "  </tbody>\n",
       "</table>\n",
       "</div>"
      ],
      "text/plain": [
       "       reviewerID        asin  overall  \\\n",
       "0  A2IBPI20UZIR0U  1384719342      5.0   \n",
       "1  A14VAT5EAX3D9S  1384719342      5.0   \n",
       "2  A195EZSQDW3E21  1384719342      5.0   \n",
       "3  A2C00NNG1ZQQG2  1384719342      5.0   \n",
       "4   A94QU4C90B1AX  1384719342      5.0   \n",
       "\n",
       "                                             reviews Sentiment   year month  \\\n",
       "0  not much to write about here but it does exact...  Positive   2014    02   \n",
       "1  the product does exactly as it should and is q...  Positive   2013    03   \n",
       "2  the primary job of this device is to block the...  Positive   2013    08   \n",
       "3  nice windscreen protects my mxl mic and preven...  Positive   2014    02   \n",
       "4  this pop filter is great it looks and performs...  Positive   2014    02   \n",
       "\n",
       "  day  helpful_review  \n",
       "0  28            0.00  \n",
       "1  16            0.93  \n",
       "2  28            1.00  \n",
       "3  14            0.00  \n",
       "4  21            0.00  "
      ]
     },
     "execution_count": 24,
     "metadata": {},
     "output_type": "execute_result"
    }
   ],
   "source": [
    "def clean_review(text):\n",
    "    '''Make text lowercase, remove text in square brackets,remove links,remove punctuation\n",
    "    and remove words containing numbers.'''\n",
    "    text = str(text).lower()\n",
    "    text = re.sub('\\[.*?\\]', '', text)\n",
    "    text = re.sub('https?://\\S+|www\\.\\S+', '', text)\n",
    "    text = re.sub('<.*?>+', '', text)\n",
    "    text = re.sub('[%s]' % re.escape(string.punctuation), '', text)\n",
    "    text = re.sub('\\n', '', text)\n",
    "    text = re.sub('\\w*\\d\\w*', '', text)\n",
    "    return text\n",
    "\n",
    "reviews['reviews'] = reviews['reviews'].apply(lambda x: clean_review(x))\n",
    "reviews.head()"
   ]
  },
  {
   "cell_type": "markdown",
   "id": "ba2a1912",
   "metadata": {
    "papermill": {
     "duration": 0.071841,
     "end_time": "2022-05-08T15:08:01.743872",
     "exception": false,
     "start_time": "2022-05-08T15:08:01.672031",
     "status": "completed"
    },
    "tags": []
   },
   "source": [
    "# **Stop words**\n",
    "Coming to stop words, general nltk stop words contains words like  “the”, “a”, “an”, “in”, and in our dataset \"not\", \"hasn't\", \"would'nt\" will conveys a negative sentiment. Removing such stop words will contradict the target variable(sentiment). So I have curated the stop words which doesn't have any negative sentiment or any negative alternatives."
   ]
  },
  {
   "cell_type": "code",
   "execution_count": 25,
   "id": "5049259d",
   "metadata": {
    "execution": {
     "iopub.execute_input": "2022-05-08T15:08:01.888886Z",
     "iopub.status.busy": "2022-05-08T15:08:01.888463Z",
     "iopub.status.idle": "2022-05-08T15:08:01.896362Z",
     "shell.execute_reply": "2022-05-08T15:08:01.895624Z"
    },
    "papermill": {
     "duration": 0.082828,
     "end_time": "2022-05-08T15:08:01.898465",
     "exception": false,
     "start_time": "2022-05-08T15:08:01.815637",
     "status": "completed"
    },
    "tags": []
   },
   "outputs": [],
   "source": [
    "stop_words= ['yourselves', 'between', 'whom', 'itself', 'is', \"she's\", 'up', 'herself', 'here', 'your', 'each', \n",
    "             'we', 'he', 'my', \"you've\", 'having', 'in', 'both', 'for', 'themselves', 'are', 'them', 'other',\n",
    "             'and', 'an', 'during', 'their', 'can', 'yourself', 'she', 'until', 'so', 'these', 'ours', 'above', \n",
    "             'what', 'while', 'have', 're', 'more', 'only', \"needn't\", 'when', 'just', 'that', 'were', \"don't\", \n",
    "             'very', 'should', 'any', 'y', 'isn', 'who',  'a', 'they', 'to', 'too', \"should've\", 'has', 'before',\n",
    "             'into', 'yours', \"it's\", 'do', 'against', 'on',  'now', 'her', 've', 'd', 'by', 'am', 'from', \n",
    "             'about', 'further', \"that'll\", \"you'd\", 'you', 'as', 'how', 'been', 'the', 'or', 'doing', 'such',\n",
    "             'his', 'himself', 'ourselves',  'was', 'through', 'out', 'below', 'own', 'myself', 'theirs', \n",
    "             'me', 'why', 'once',  'him', 'than', 'be', 'most', \"you'll\", 'same', 'some', 'with', 'few', 'it',\n",
    "             'at', 'after', 'its', 'which', 'there','our', 'this', 'hers', 'being', 'did', 'of', 'had', 'under',\n",
    "             'over','again', 'where', 'those', 'then', \"you're\", 'i', 'because', 'does', 'all']"
   ]
  },
  {
   "cell_type": "code",
   "execution_count": 26,
   "id": "f9bb7bbf",
   "metadata": {
    "execution": {
     "iopub.execute_input": "2022-05-08T15:08:02.047683Z",
     "iopub.status.busy": "2022-05-08T15:08:02.047240Z",
     "iopub.status.idle": "2022-05-08T15:08:03.260194Z",
     "shell.execute_reply": "2022-05-08T15:08:03.259363Z"
    },
    "papermill": {
     "duration": 1.290163,
     "end_time": "2022-05-08T15:08:03.262039",
     "exception": false,
     "start_time": "2022-05-08T15:08:01.971876",
     "status": "completed"
    },
    "tags": []
   },
   "outputs": [
    {
     "data": {
      "text/html": [
       "<div>\n",
       "<style scoped>\n",
       "    .dataframe tbody tr th:only-of-type {\n",
       "        vertical-align: middle;\n",
       "    }\n",
       "\n",
       "    .dataframe tbody tr th {\n",
       "        vertical-align: top;\n",
       "    }\n",
       "\n",
       "    .dataframe thead th {\n",
       "        text-align: right;\n",
       "    }\n",
       "</style>\n",
       "<table border=\"1\" class=\"dataframe\">\n",
       "  <thead>\n",
       "    <tr style=\"text-align: right;\">\n",
       "      <th></th>\n",
       "      <th>reviewerID</th>\n",
       "      <th>asin</th>\n",
       "      <th>overall</th>\n",
       "      <th>reviews</th>\n",
       "      <th>Sentiment</th>\n",
       "      <th>year</th>\n",
       "      <th>month</th>\n",
       "      <th>day</th>\n",
       "      <th>helpful_review</th>\n",
       "    </tr>\n",
       "  </thead>\n",
       "  <tbody>\n",
       "    <tr>\n",
       "      <th>0</th>\n",
       "      <td>A2IBPI20UZIR0U</td>\n",
       "      <td>1384719342</td>\n",
       "      <td>5.0</td>\n",
       "      <td>not much write but exactly supposed filters po...</td>\n",
       "      <td>Positive</td>\n",
       "      <td>2014</td>\n",
       "      <td>02</td>\n",
       "      <td>28</td>\n",
       "      <td>0.00</td>\n",
       "    </tr>\n",
       "    <tr>\n",
       "      <th>1</th>\n",
       "      <td>A14VAT5EAX3D9S</td>\n",
       "      <td>1384719342</td>\n",
       "      <td>5.0</td>\n",
       "      <td>product exactly quite affordablei not realized...</td>\n",
       "      <td>Positive</td>\n",
       "      <td>2013</td>\n",
       "      <td>03</td>\n",
       "      <td>16</td>\n",
       "      <td>0.93</td>\n",
       "    </tr>\n",
       "    <tr>\n",
       "      <th>2</th>\n",
       "      <td>A195EZSQDW3E21</td>\n",
       "      <td>1384719342</td>\n",
       "      <td>5.0</td>\n",
       "      <td>primary job device block breath would otherwis...</td>\n",
       "      <td>Positive</td>\n",
       "      <td>2013</td>\n",
       "      <td>08</td>\n",
       "      <td>28</td>\n",
       "      <td>1.00</td>\n",
       "    </tr>\n",
       "    <tr>\n",
       "      <th>3</th>\n",
       "      <td>A2C00NNG1ZQQG2</td>\n",
       "      <td>1384719342</td>\n",
       "      <td>5.0</td>\n",
       "      <td>nice windscreen protects mxl mic prevents pops...</td>\n",
       "      <td>Positive</td>\n",
       "      <td>2014</td>\n",
       "      <td>02</td>\n",
       "      <td>14</td>\n",
       "      <td>0.00</td>\n",
       "    </tr>\n",
       "    <tr>\n",
       "      <th>4</th>\n",
       "      <td>A94QU4C90B1AX</td>\n",
       "      <td>1384719342</td>\n",
       "      <td>5.0</td>\n",
       "      <td>pop filter great looks performs like studio fi...</td>\n",
       "      <td>Positive</td>\n",
       "      <td>2014</td>\n",
       "      <td>02</td>\n",
       "      <td>21</td>\n",
       "      <td>0.00</td>\n",
       "    </tr>\n",
       "  </tbody>\n",
       "</table>\n",
       "</div>"
      ],
      "text/plain": [
       "       reviewerID        asin  overall  \\\n",
       "0  A2IBPI20UZIR0U  1384719342      5.0   \n",
       "1  A14VAT5EAX3D9S  1384719342      5.0   \n",
       "2  A195EZSQDW3E21  1384719342      5.0   \n",
       "3  A2C00NNG1ZQQG2  1384719342      5.0   \n",
       "4   A94QU4C90B1AX  1384719342      5.0   \n",
       "\n",
       "                                             reviews Sentiment   year month  \\\n",
       "0  not much write but exactly supposed filters po...  Positive   2014    02   \n",
       "1  product exactly quite affordablei not realized...  Positive   2013    03   \n",
       "2  primary job device block breath would otherwis...  Positive   2013    08   \n",
       "3  nice windscreen protects mxl mic prevents pops...  Positive   2014    02   \n",
       "4  pop filter great looks performs like studio fi...  Positive   2014    02   \n",
       "\n",
       "  day  helpful_review  \n",
       "0  28            0.00  \n",
       "1  16            0.93  \n",
       "2  28            1.00  \n",
       "3  14            0.00  \n",
       "4  21            0.00  "
      ]
     },
     "execution_count": 26,
     "metadata": {},
     "output_type": "execute_result"
    }
   ],
   "source": [
    "reviews['reviews'] = reviews['reviews'].apply(lambda x: ' '.join([word for word in x.split() if word not in (stop_words)]))\n",
    "reviews.head()"
   ]
  },
  {
   "cell_type": "markdown",
   "id": "d0e36e57",
   "metadata": {
    "papermill": {
     "duration": 0.072621,
     "end_time": "2022-05-08T15:08:03.407462",
     "exception": false,
     "start_time": "2022-05-08T15:08:03.334841",
     "status": "completed"
    },
    "tags": []
   },
   "source": [
    "# **Exploratory Data Analysis** \n",
    "On texts as well as other factors to understand what are all features which contributes to the sentiment.\n",
    "\n",
    "Prior analysis:\n",
    "\n",
    "1. Higher the helpful_review rate, positive the sentiment is.\n",
    "2. In the year 2013 and 2014, Negative reviews were increased.\n",
    "3. More reviews at the starting of a month.\n"
   ]
  },
  {
   "cell_type": "markdown",
   "id": "a532bdbb",
   "metadata": {
    "papermill": {
     "duration": 0.07244,
     "end_time": "2022-05-08T15:08:03.554340",
     "exception": false,
     "start_time": "2022-05-08T15:08:03.481900",
     "status": "completed"
    },
    "tags": []
   },
   "source": [
    "# **Sentiment vs helpful_review**\n",
    "First lets look whether there is any relationship between sentiment of review and helpfulness of it."
   ]
  },
  {
   "cell_type": "code",
   "execution_count": 27,
   "id": "7085427a",
   "metadata": {
    "execution": {
     "iopub.execute_input": "2022-05-08T15:08:03.700564Z",
     "iopub.status.busy": "2022-05-08T15:08:03.699742Z",
     "iopub.status.idle": "2022-05-08T15:08:03.711274Z",
     "shell.execute_reply": "2022-05-08T15:08:03.710474Z"
    },
    "papermill": {
     "duration": 0.086644,
     "end_time": "2022-05-08T15:08:03.713088",
     "exception": false,
     "start_time": "2022-05-08T15:08:03.626444",
     "status": "completed"
    },
    "tags": []
   },
   "outputs": [
    {
     "data": {
      "text/html": [
       "<div>\n",
       "<style scoped>\n",
       "    .dataframe tbody tr th:only-of-type {\n",
       "        vertical-align: middle;\n",
       "    }\n",
       "\n",
       "    .dataframe tbody tr th {\n",
       "        vertical-align: top;\n",
       "    }\n",
       "\n",
       "    .dataframe thead th {\n",
       "        text-align: right;\n",
       "    }\n",
       "</style>\n",
       "<table border=\"1\" class=\"dataframe\">\n",
       "  <thead>\n",
       "    <tr style=\"text-align: right;\">\n",
       "      <th></th>\n",
       "      <th>helpful_review</th>\n",
       "    </tr>\n",
       "    <tr>\n",
       "      <th>Sentiment</th>\n",
       "      <th></th>\n",
       "    </tr>\n",
       "  </thead>\n",
       "  <tbody>\n",
       "    <tr>\n",
       "      <th>Negative</th>\n",
       "      <td>0.307559</td>\n",
       "    </tr>\n",
       "    <tr>\n",
       "      <th>Neutral</th>\n",
       "      <td>0.275687</td>\n",
       "    </tr>\n",
       "    <tr>\n",
       "      <th>Positive</th>\n",
       "      <td>0.260505</td>\n",
       "    </tr>\n",
       "  </tbody>\n",
       "</table>\n",
       "</div>"
      ],
      "text/plain": [
       "           helpful_review\n",
       "Sentiment                \n",
       "Negative         0.307559\n",
       "Neutral          0.275687\n",
       "Positive         0.260505"
      ]
     },
     "execution_count": 27,
     "metadata": {},
     "output_type": "execute_result"
    }
   ],
   "source": [
    "pd.DataFrame(reviews.groupby('Sentiment')['helpful_review'].mean())"
   ]
  },
  {
   "cell_type": "code",
   "execution_count": 28,
   "id": "a528ccc2",
   "metadata": {
    "execution": {
     "iopub.execute_input": "2022-05-08T15:08:06.733532Z",
     "iopub.status.busy": "2022-05-08T15:08:06.733258Z",
     "iopub.status.idle": "2022-05-08T15:08:10.588867Z",
     "shell.execute_reply": "2022-05-08T15:08:10.588030Z"
    },
    "papermill": {
     "duration": 3.945459,
     "end_time": "2022-05-08T15:08:10.590855",
     "exception": false,
     "start_time": "2022-05-08T15:08:06.645396",
     "status": "completed"
    },
    "tags": []
   },
   "outputs": [
    {
     "data": {
      "text/html": [
       "<div>\n",
       "<style scoped>\n",
       "    .dataframe tbody tr th:only-of-type {\n",
       "        vertical-align: middle;\n",
       "    }\n",
       "\n",
       "    .dataframe tbody tr th {\n",
       "        vertical-align: top;\n",
       "    }\n",
       "\n",
       "    .dataframe thead th {\n",
       "        text-align: right;\n",
       "    }\n",
       "</style>\n",
       "<table border=\"1\" class=\"dataframe\">\n",
       "  <thead>\n",
       "    <tr style=\"text-align: right;\">\n",
       "      <th></th>\n",
       "      <th>reviewerID</th>\n",
       "      <th>asin</th>\n",
       "      <th>overall</th>\n",
       "      <th>reviews</th>\n",
       "      <th>Sentiment</th>\n",
       "      <th>year</th>\n",
       "      <th>month</th>\n",
       "      <th>day</th>\n",
       "      <th>helpful_review</th>\n",
       "      <th>polarity</th>\n",
       "      <th>review_len</th>\n",
       "      <th>word_count</th>\n",
       "    </tr>\n",
       "  </thead>\n",
       "  <tbody>\n",
       "    <tr>\n",
       "      <th>0</th>\n",
       "      <td>A2IBPI20UZIR0U</td>\n",
       "      <td>1384719342</td>\n",
       "      <td>5.0</td>\n",
       "      <td>not much write but exactly supposed filters po...</td>\n",
       "      <td>Positive</td>\n",
       "      <td>2014</td>\n",
       "      <td>02</td>\n",
       "      <td>28</td>\n",
       "      <td>0.00</td>\n",
       "      <td>0.250000</td>\n",
       "      <td>162</td>\n",
       "      <td>25</td>\n",
       "    </tr>\n",
       "    <tr>\n",
       "      <th>1</th>\n",
       "      <td>A14VAT5EAX3D9S</td>\n",
       "      <td>1384719342</td>\n",
       "      <td>5.0</td>\n",
       "      <td>product exactly quite affordablei not realized...</td>\n",
       "      <td>Positive</td>\n",
       "      <td>2013</td>\n",
       "      <td>03</td>\n",
       "      <td>16</td>\n",
       "      <td>0.93</td>\n",
       "      <td>0.014286</td>\n",
       "      <td>356</td>\n",
       "      <td>55</td>\n",
       "    </tr>\n",
       "    <tr>\n",
       "      <th>2</th>\n",
       "      <td>A195EZSQDW3E21</td>\n",
       "      <td>1384719342</td>\n",
       "      <td>5.0</td>\n",
       "      <td>primary job device block breath would otherwis...</td>\n",
       "      <td>Positive</td>\n",
       "      <td>2013</td>\n",
       "      <td>08</td>\n",
       "      <td>28</td>\n",
       "      <td>1.00</td>\n",
       "      <td>0.167500</td>\n",
       "      <td>315</td>\n",
       "      <td>48</td>\n",
       "    </tr>\n",
       "    <tr>\n",
       "      <th>3</th>\n",
       "      <td>A2C00NNG1ZQQG2</td>\n",
       "      <td>1384719342</td>\n",
       "      <td>5.0</td>\n",
       "      <td>nice windscreen protects mxl mic prevents pops...</td>\n",
       "      <td>Positive</td>\n",
       "      <td>2014</td>\n",
       "      <td>02</td>\n",
       "      <td>14</td>\n",
       "      <td>0.00</td>\n",
       "      <td>0.333333</td>\n",
       "      <td>169</td>\n",
       "      <td>22</td>\n",
       "    </tr>\n",
       "    <tr>\n",
       "      <th>4</th>\n",
       "      <td>A94QU4C90B1AX</td>\n",
       "      <td>1384719342</td>\n",
       "      <td>5.0</td>\n",
       "      <td>pop filter great looks performs like studio fi...</td>\n",
       "      <td>Positive</td>\n",
       "      <td>2014</td>\n",
       "      <td>02</td>\n",
       "      <td>21</td>\n",
       "      <td>0.00</td>\n",
       "      <td>0.800000</td>\n",
       "      <td>136</td>\n",
       "      <td>21</td>\n",
       "    </tr>\n",
       "  </tbody>\n",
       "</table>\n",
       "</div>"
      ],
      "text/plain": [
       "       reviewerID        asin  overall  \\\n",
       "0  A2IBPI20UZIR0U  1384719342      5.0   \n",
       "1  A14VAT5EAX3D9S  1384719342      5.0   \n",
       "2  A195EZSQDW3E21  1384719342      5.0   \n",
       "3  A2C00NNG1ZQQG2  1384719342      5.0   \n",
       "4   A94QU4C90B1AX  1384719342      5.0   \n",
       "\n",
       "                                             reviews Sentiment   year month  \\\n",
       "0  not much write but exactly supposed filters po...  Positive   2014    02   \n",
       "1  product exactly quite affordablei not realized...  Positive   2013    03   \n",
       "2  primary job device block breath would otherwis...  Positive   2013    08   \n",
       "3  nice windscreen protects mxl mic prevents pops...  Positive   2014    02   \n",
       "4  pop filter great looks performs like studio fi...  Positive   2014    02   \n",
       "\n",
       "  day  helpful_review  polarity  review_len  word_count  \n",
       "0  28            0.00  0.250000         162          25  \n",
       "1  16            0.93  0.014286         356          55  \n",
       "2  28            1.00  0.167500         315          48  \n",
       "3  14            0.00  0.333333         169          22  \n",
       "4  21            0.00  0.800000         136          21  "
      ]
     },
     "execution_count": 28,
     "metadata": {},
     "output_type": "execute_result"
    }
   ],
   "source": [
    "reviews['polarity'] = reviews['reviews'].map(lambda text: TextBlob(text).sentiment.polarity)\n",
    "reviews['review_len'] = reviews['reviews'].astype(str).apply(len)\n",
    "reviews['word_count'] = reviews['reviews'].apply(lambda x: len(str(x).split()))\n",
    "reviews.head()"
   ]
  },
  {
   "cell_type": "code",
   "execution_count": 30,
   "id": "7f80fff6",
   "metadata": {
    "execution": {
     "iopub.execute_input": "2022-05-08T15:08:10.753281Z",
     "iopub.status.busy": "2022-05-08T15:08:10.752732Z",
     "iopub.status.idle": "2022-05-08T15:08:10.775593Z",
     "shell.execute_reply": "2022-05-08T15:08:10.774725Z"
    },
    "papermill": {
     "duration": 0.107002,
     "end_time": "2022-05-08T15:08:10.777820",
     "exception": false,
     "start_time": "2022-05-08T15:08:10.670818",
     "status": "completed"
    },
    "tags": []
   },
   "outputs": [
    {
     "data": {
      "text/html": [
       "        <script type=\"text/javascript\">\n",
       "        window.PlotlyConfig = {MathJaxConfig: 'local'};\n",
       "        if (window.MathJax) {MathJax.Hub.Config({SVG: {font: \"STIX-Web\"}});}\n",
       "        if (typeof require !== 'undefined') {\n",
       "        require.undef(\"plotly\");\n",
       "        requirejs.config({\n",
       "            paths: {\n",
       "                'plotly': ['https://cdn.plot.ly/plotly-2.11.1.min']\n",
       "            }\n",
       "        });\n",
       "        require(['plotly'], function(Plotly) {\n",
       "            window._Plotly = Plotly;\n",
       "        });\n",
       "        }\n",
       "        </script>\n",
       "        "
      ]
     },
     "metadata": {},
     "output_type": "display_data"
    }
   ],
   "source": [
    "cf.go_offline()\n",
    "cf.set_config_file(offline=False, world_readable=True)"
   ]
  },
  {
   "cell_type": "markdown",
   "id": "108929ed",
   "metadata": {
    "papermill": {
     "duration": 0.081271,
     "end_time": "2022-05-08T15:08:10.942130",
     "exception": false,
     "start_time": "2022-05-08T15:08:10.860859",
     "status": "completed"
    },
    "tags": []
   },
   "source": [
    "# **Sentiment Polarity Distribution**"
   ]
  },
  {
   "cell_type": "markdown",
   "id": "d01da194",
   "metadata": {
    "papermill": {
     "duration": 0.115386,
     "end_time": "2022-05-08T15:08:12.237258",
     "exception": false,
     "start_time": "2022-05-08T15:08:12.121872",
     "status": "completed"
    },
    "tags": []
   },
   "source": [
    "Insights:\n",
    "\n",
    "1. Sentiment polarity is a normally distributed.\n",
    "2. Pare more ositive polarities compared to the negative polarities."
   ]
  },
  {
   "cell_type": "markdown",
   "id": "3a6d26f3",
   "metadata": {
    "papermill": {
     "duration": 0.133067,
     "end_time": "2022-05-08T15:08:13.097410",
     "exception": false,
     "start_time": "2022-05-08T15:08:12.964343",
     "status": "completed"
    },
    "tags": []
   },
   "source": [
    "Insight:\n",
    "Sentiment review length is a right skewed distribution where most of the lengths falls between 0-1000."
   ]
  },
  {
   "cell_type": "code",
   "execution_count": 29,
   "id": "22283599",
   "metadata": {
    "execution": {
     "iopub.execute_input": "2022-05-08T15:08:14.386442Z",
     "iopub.status.busy": "2022-05-08T15:08:14.385960Z",
     "iopub.status.idle": "2022-05-08T15:08:14.408997Z",
     "shell.execute_reply": "2022-05-08T15:08:14.408401Z"
    },
    "papermill": {
     "duration": 0.180548,
     "end_time": "2022-05-08T15:08:14.411017",
     "exception": false,
     "start_time": "2022-05-08T15:08:14.230469",
     "status": "completed"
    },
    "tags": []
   },
   "outputs": [],
   "source": [
    "#Filtering data\n",
    "positive_review = reviews[reviews[\"Sentiment\"]=='Positive'].dropna()\n",
    "neutral_review = reviews[reviews[\"Sentiment\"]=='Neutral'].dropna()\n",
    "negative_review = reviews[reviews[\"Sentiment\"]=='Negative'].dropna()\n",
    "\n",
    "## custom function for ngram generation ##\n",
    "def generate_ngrams(text, n_gram = 1):\n",
    "    token = [token for token in text.lower().split(\" \") if token != \"\" if token not in STOPWORDS]\n",
    "    ngrams = zip(*[token[i:] for i in range(n_gram)])\n",
    "    return [\" \".join(ngram) for ngram in ngrams]"
   ]
  },
  {
   "cell_type": "code",
   "execution_count": 30,
   "id": "91a053bd",
   "metadata": {
    "execution": {
     "iopub.execute_input": "2022-05-08T15:08:14.719714Z",
     "iopub.status.busy": "2022-05-08T15:08:14.719432Z",
     "iopub.status.idle": "2022-05-08T15:08:14.739137Z",
     "shell.execute_reply": "2022-05-08T15:08:14.738331Z"
    },
    "papermill": {
     "duration": 0.175453,
     "end_time": "2022-05-08T15:08:14.741016",
     "exception": false,
     "start_time": "2022-05-08T15:08:14.565563",
     "status": "completed"
    },
    "tags": []
   },
   "outputs": [
    {
     "data": {
      "text/html": [
       "<div>\n",
       "<style scoped>\n",
       "    .dataframe tbody tr th:only-of-type {\n",
       "        vertical-align: middle;\n",
       "    }\n",
       "\n",
       "    .dataframe tbody tr th {\n",
       "        vertical-align: top;\n",
       "    }\n",
       "\n",
       "    .dataframe thead th {\n",
       "        text-align: right;\n",
       "    }\n",
       "</style>\n",
       "<table border=\"1\" class=\"dataframe\">\n",
       "  <thead>\n",
       "    <tr style=\"text-align: right;\">\n",
       "      <th></th>\n",
       "      <th>reviewerID</th>\n",
       "      <th>asin</th>\n",
       "      <th>overall</th>\n",
       "      <th>reviews</th>\n",
       "      <th>Sentiment</th>\n",
       "      <th>year</th>\n",
       "      <th>month</th>\n",
       "      <th>day</th>\n",
       "      <th>helpful_review</th>\n",
       "      <th>polarity</th>\n",
       "      <th>review_len</th>\n",
       "      <th>word_count</th>\n",
       "    </tr>\n",
       "  </thead>\n",
       "  <tbody>\n",
       "    <tr>\n",
       "      <th>15</th>\n",
       "      <td>A2PD27UKAD3Q00</td>\n",
       "      <td>B00005ML71</td>\n",
       "      <td>2.0</td>\n",
       "      <td>bought use keyboard wasnt really aware options...</td>\n",
       "      <td>Negative</td>\n",
       "      <td>2013</td>\n",
       "      <td>08</td>\n",
       "      <td>17</td>\n",
       "      <td>0.0</td>\n",
       "      <td>0.269444</td>\n",
       "      <td>430</td>\n",
       "      <td>63</td>\n",
       "    </tr>\n",
       "    <tr>\n",
       "      <th>50</th>\n",
       "      <td>A12ABV9NU02O29</td>\n",
       "      <td>B000068NW5</td>\n",
       "      <td>2.0</td>\n",
       "      <td>didnt expect cable thin easily thickness guita...</td>\n",
       "      <td>Negative</td>\n",
       "      <td>2011</td>\n",
       "      <td>07</td>\n",
       "      <td>6</td>\n",
       "      <td>1.0</td>\n",
       "      <td>-0.018707</td>\n",
       "      <td>281</td>\n",
       "      <td>41</td>\n",
       "    </tr>\n",
       "    <tr>\n",
       "      <th>52</th>\n",
       "      <td>A1L7M2JXN4EZCR</td>\n",
       "      <td>B000068NW5</td>\n",
       "      <td>1.0</td>\n",
       "      <td>hums crackles think im problems equipment soon...</td>\n",
       "      <td>Negative</td>\n",
       "      <td>2014</td>\n",
       "      <td>02</td>\n",
       "      <td>9</td>\n",
       "      <td>0.0</td>\n",
       "      <td>0.600000</td>\n",
       "      <td>183</td>\n",
       "      <td>29</td>\n",
       "    </tr>\n",
       "    <tr>\n",
       "      <th>89</th>\n",
       "      <td>A3UD50M7M72150</td>\n",
       "      <td>B000068NW5</td>\n",
       "      <td>1.0</td>\n",
       "      <td>im procheapo hated thing theyre noisy cables f...</td>\n",
       "      <td>Negative</td>\n",
       "      <td>2014</td>\n",
       "      <td>03</td>\n",
       "      <td>14</td>\n",
       "      <td>0.0</td>\n",
       "      <td>-0.250000</td>\n",
       "      <td>106</td>\n",
       "      <td>16</td>\n",
       "    </tr>\n",
       "    <tr>\n",
       "      <th>98</th>\n",
       "      <td>A1W3CEEQBJ4GTN</td>\n",
       "      <td>B000068NZC</td>\n",
       "      <td>2.0</td>\n",
       "      <td>bought canon vixia hf video camera shotgun mic...</td>\n",
       "      <td>Negative</td>\n",
       "      <td>2013</td>\n",
       "      <td>09</td>\n",
       "      <td>16</td>\n",
       "      <td>0.0</td>\n",
       "      <td>0.073413</td>\n",
       "      <td>620</td>\n",
       "      <td>100</td>\n",
       "    </tr>\n",
       "    <tr>\n",
       "      <th>...</th>\n",
       "      <td>...</td>\n",
       "      <td>...</td>\n",
       "      <td>...</td>\n",
       "      <td>...</td>\n",
       "      <td>...</td>\n",
       "      <td>...</td>\n",
       "      <td>...</td>\n",
       "      <td>...</td>\n",
       "      <td>...</td>\n",
       "      <td>...</td>\n",
       "      <td>...</td>\n",
       "      <td>...</td>\n",
       "    </tr>\n",
       "    <tr>\n",
       "      <th>10171</th>\n",
       "      <td>A2Y2U697SS98E1</td>\n",
       "      <td>B00F2PKRJW</td>\n",
       "      <td>1.0</td>\n",
       "      <td>really wanted like but theyre frickin lintcatc...</td>\n",
       "      <td>Negative</td>\n",
       "      <td>2014</td>\n",
       "      <td>06</td>\n",
       "      <td>12</td>\n",
       "      <td>0.0</td>\n",
       "      <td>0.051623</td>\n",
       "      <td>225</td>\n",
       "      <td>36</td>\n",
       "    </tr>\n",
       "    <tr>\n",
       "      <th>10178</th>\n",
       "      <td>A768OB1LNE356</td>\n",
       "      <td>B00FXKIG5I</td>\n",
       "      <td>2.0</td>\n",
       "      <td>larger ones sometimes neck snap thought might ...</td>\n",
       "      <td>Negative</td>\n",
       "      <td>2014</td>\n",
       "      <td>03</td>\n",
       "      <td>22</td>\n",
       "      <td>0.5</td>\n",
       "      <td>-0.058333</td>\n",
       "      <td>277</td>\n",
       "      <td>44</td>\n",
       "    </tr>\n",
       "    <tr>\n",
       "      <th>10187</th>\n",
       "      <td>A3AOPVQ7EZHTWA</td>\n",
       "      <td>B00GTSM8FW</td>\n",
       "      <td>2.0</td>\n",
       "      <td>tension screw adjustment remains best capo ive...</td>\n",
       "      <td>Negative</td>\n",
       "      <td>2014</td>\n",
       "      <td>04</td>\n",
       "      <td>24</td>\n",
       "      <td>0.0</td>\n",
       "      <td>0.203853</td>\n",
       "      <td>1467</td>\n",
       "      <td>211</td>\n",
       "    </tr>\n",
       "    <tr>\n",
       "      <th>10189</th>\n",
       "      <td>A1SD1C8XK3Z3V1</td>\n",
       "      <td>B00GTSM8FW</td>\n",
       "      <td>2.0</td>\n",
       "      <td>fan planet waves ns capos but new one not well...</td>\n",
       "      <td>Negative</td>\n",
       "      <td>2014</td>\n",
       "      <td>06</td>\n",
       "      <td>2</td>\n",
       "      <td>1.0</td>\n",
       "      <td>0.116919</td>\n",
       "      <td>339</td>\n",
       "      <td>57</td>\n",
       "    </tr>\n",
       "    <tr>\n",
       "      <th>10247</th>\n",
       "      <td>A3VDSGNIS92OVZ</td>\n",
       "      <td>B00J4TBMVO</td>\n",
       "      <td>2.0</td>\n",
       "      <td>looking forward trying ive loved companys prod...</td>\n",
       "      <td>Negative</td>\n",
       "      <td>2014</td>\n",
       "      <td>06</td>\n",
       "      <td>24</td>\n",
       "      <td>1.0</td>\n",
       "      <td>0.145000</td>\n",
       "      <td>676</td>\n",
       "      <td>102</td>\n",
       "    </tr>\n",
       "  </tbody>\n",
       "</table>\n",
       "<p>467 rows × 12 columns</p>\n",
       "</div>"
      ],
      "text/plain": [
       "           reviewerID        asin  overall  \\\n",
       "15     A2PD27UKAD3Q00  B00005ML71      2.0   \n",
       "50     A12ABV9NU02O29  B000068NW5      2.0   \n",
       "52     A1L7M2JXN4EZCR  B000068NW5      1.0   \n",
       "89     A3UD50M7M72150  B000068NW5      1.0   \n",
       "98     A1W3CEEQBJ4GTN  B000068NZC      2.0   \n",
       "...               ...         ...      ...   \n",
       "10171  A2Y2U697SS98E1  B00F2PKRJW      1.0   \n",
       "10178   A768OB1LNE356  B00FXKIG5I      2.0   \n",
       "10187  A3AOPVQ7EZHTWA  B00GTSM8FW      2.0   \n",
       "10189  A1SD1C8XK3Z3V1  B00GTSM8FW      2.0   \n",
       "10247  A3VDSGNIS92OVZ  B00J4TBMVO      2.0   \n",
       "\n",
       "                                                 reviews Sentiment   year  \\\n",
       "15     bought use keyboard wasnt really aware options...  Negative   2013   \n",
       "50     didnt expect cable thin easily thickness guita...  Negative   2011   \n",
       "52     hums crackles think im problems equipment soon...  Negative   2014   \n",
       "89     im procheapo hated thing theyre noisy cables f...  Negative   2014   \n",
       "98     bought canon vixia hf video camera shotgun mic...  Negative   2013   \n",
       "...                                                  ...       ...    ...   \n",
       "10171  really wanted like but theyre frickin lintcatc...  Negative   2014   \n",
       "10178  larger ones sometimes neck snap thought might ...  Negative   2014   \n",
       "10187  tension screw adjustment remains best capo ive...  Negative   2014   \n",
       "10189  fan planet waves ns capos but new one not well...  Negative   2014   \n",
       "10247  looking forward trying ive loved companys prod...  Negative   2014   \n",
       "\n",
       "      month day  helpful_review  polarity  review_len  word_count  \n",
       "15       08  17             0.0  0.269444         430          63  \n",
       "50       07   6             1.0 -0.018707         281          41  \n",
       "52       02   9             0.0  0.600000         183          29  \n",
       "89       03  14             0.0 -0.250000         106          16  \n",
       "98       09  16             0.0  0.073413         620         100  \n",
       "...     ...  ..             ...       ...         ...         ...  \n",
       "10171    06  12             0.0  0.051623         225          36  \n",
       "10178    03  22             0.5 -0.058333         277          44  \n",
       "10187    04  24             0.0  0.203853        1467         211  \n",
       "10189    06   2             1.0  0.116919         339          57  \n",
       "10247    06  24             1.0  0.145000         676         102  \n",
       "\n",
       "[467 rows x 12 columns]"
      ]
     },
     "execution_count": 30,
     "metadata": {},
     "output_type": "execute_result"
    }
   ],
   "source": [
    "negative_review"
   ]
  },
  {
   "cell_type": "markdown",
   "id": "4c1ed167",
   "metadata": {
    "papermill": {
     "duration": 0.159183,
     "end_time": "2022-05-08T15:08:16.819192",
     "exception": false,
     "start_time": "2022-05-08T15:08:16.660009",
     "status": "completed"
    },
    "tags": []
   },
   "source": [
    "With ngram, not much information is gathered for sentiments based on one word."
   ]
  },
  {
   "cell_type": "markdown",
   "id": "97ff0ff8",
   "metadata": {
    "papermill": {
     "duration": 0.231556,
     "end_time": "2022-05-08T15:08:20.726925",
     "exception": false,
     "start_time": "2022-05-08T15:08:20.495369",
     "status": "completed"
    },
    "tags": []
   },
   "source": [
    "# **WordCloud for Postive, Neutral, Negative Sentiments**"
   ]
  },
  {
   "cell_type": "markdown",
   "id": "e3ea13fb",
   "metadata": {
    "papermill": {
     "duration": 0.273021,
     "end_time": "2022-05-08T15:08:51.731961",
     "exception": false,
     "start_time": "2022-05-08T15:08:51.458940",
     "status": "completed"
    },
    "tags": []
   },
   "source": [
    "# **Extracting Features from Reviews**\n",
    "Before building the model for doing sentiment analysis, it is required to convert the review texts into vector formation as computer cannot understand words and their sentiment. After that TF-TDF method to convert the texts."
   ]
  },
  {
   "cell_type": "markdown",
   "id": "2b58d251",
   "metadata": {
    "papermill": {
     "duration": 0.255884,
     "end_time": "2022-05-08T15:08:52.246234",
     "exception": false,
     "start_time": "2022-05-08T15:08:51.990350",
     "status": "completed"
    },
    "tags": []
   },
   "source": [
    "# **Encoding target variable-sentiment**"
   ]
  },
  {
   "cell_type": "code",
   "execution_count": 31,
   "id": "5ae9f71a",
   "metadata": {
    "execution": {
     "iopub.execute_input": "2022-05-08T15:08:52.764442Z",
     "iopub.status.busy": "2022-05-08T15:08:52.763805Z",
     "iopub.status.idle": "2022-05-08T15:08:52.773280Z",
     "shell.execute_reply": "2022-05-08T15:08:52.772402Z"
    },
    "papermill": {
     "duration": 0.271742,
     "end_time": "2022-05-08T15:08:52.775285",
     "exception": false,
     "start_time": "2022-05-08T15:08:52.503543",
     "status": "completed"
    },
    "tags": []
   },
   "outputs": [
    {
     "data": {
      "text/plain": [
       "array([2, 1, 0])"
      ]
     },
     "execution_count": 31,
     "metadata": {},
     "output_type": "execute_result"
    }
   ],
   "source": [
    "# calling the label encoder function\n",
    "le = preprocessing.LabelEncoder() \n",
    "  \n",
    "# Encode labels in column 'sentiment'. \n",
    "reviews['Sentiment']= le.fit_transform(reviews['Sentiment']) \n",
    "\n",
    "reviews['Sentiment'].unique() "
   ]
  },
  {
   "cell_type": "code",
   "execution_count": 32,
   "id": "fbd5c804",
   "metadata": {
    "execution": {
     "iopub.execute_input": "2022-05-08T15:08:53.296515Z",
     "iopub.status.busy": "2022-05-08T15:08:53.296097Z",
     "iopub.status.idle": "2022-05-08T15:08:53.303146Z",
     "shell.execute_reply": "2022-05-08T15:08:53.302346Z"
    },
    "papermill": {
     "duration": 0.26988,
     "end_time": "2022-05-08T15:08:53.305351",
     "exception": false,
     "start_time": "2022-05-08T15:08:53.035471",
     "status": "completed"
    },
    "tags": []
   },
   "outputs": [
    {
     "data": {
      "text/plain": [
       "Sentiment\n",
       "2    9022\n",
       "1     772\n",
       "0     467\n",
       "Name: count, dtype: int64"
      ]
     },
     "execution_count": 32,
     "metadata": {},
     "output_type": "execute_result"
    }
   ],
   "source": [
    "reviews['Sentiment'].value_counts()"
   ]
  },
  {
   "cell_type": "code",
   "execution_count": 33,
   "id": "c4f122c3",
   "metadata": {
    "execution": {
     "iopub.execute_input": "2022-05-08T15:08:53.826004Z",
     "iopub.status.busy": "2022-05-08T15:08:53.825226Z",
     "iopub.status.idle": "2022-05-08T15:08:53.838199Z",
     "shell.execute_reply": "2022-05-08T15:08:53.837358Z"
    },
    "papermill": {
     "duration": 0.276863,
     "end_time": "2022-05-08T15:08:53.840208",
     "exception": false,
     "start_time": "2022-05-08T15:08:53.563345",
     "status": "completed"
    },
    "tags": []
   },
   "outputs": [
    {
     "data": {
      "text/html": [
       "<div>\n",
       "<style scoped>\n",
       "    .dataframe tbody tr th:only-of-type {\n",
       "        vertical-align: middle;\n",
       "    }\n",
       "\n",
       "    .dataframe tbody tr th {\n",
       "        vertical-align: top;\n",
       "    }\n",
       "\n",
       "    .dataframe thead th {\n",
       "        text-align: right;\n",
       "    }\n",
       "</style>\n",
       "<table border=\"1\" class=\"dataframe\">\n",
       "  <thead>\n",
       "    <tr style=\"text-align: right;\">\n",
       "      <th></th>\n",
       "      <th>reviews</th>\n",
       "    </tr>\n",
       "  </thead>\n",
       "  <tbody>\n",
       "    <tr>\n",
       "      <th>0</th>\n",
       "      <td>not much write but exactly supposed filters po...</td>\n",
       "    </tr>\n",
       "    <tr>\n",
       "      <th>1</th>\n",
       "      <td>product exactly quite affordablei not realized...</td>\n",
       "    </tr>\n",
       "    <tr>\n",
       "      <th>2</th>\n",
       "      <td>primary job device block breath would otherwis...</td>\n",
       "    </tr>\n",
       "    <tr>\n",
       "      <th>3</th>\n",
       "      <td>nice windscreen protects mxl mic prevents pops...</td>\n",
       "    </tr>\n",
       "    <tr>\n",
       "      <th>4</th>\n",
       "      <td>pop filter great looks performs like studio fi...</td>\n",
       "    </tr>\n",
       "  </tbody>\n",
       "</table>\n",
       "</div>"
      ],
      "text/plain": [
       "                                             reviews\n",
       "0  not much write but exactly supposed filters po...\n",
       "1  product exactly quite affordablei not realized...\n",
       "2  primary job device block breath would otherwis...\n",
       "3  nice windscreen protects mxl mic prevents pops...\n",
       "4  pop filter great looks performs like studio fi..."
      ]
     },
     "execution_count": 33,
     "metadata": {},
     "output_type": "execute_result"
    }
   ],
   "source": [
    "#Extracting 'reviews' for processing\n",
    "review_features = reviews.copy()\n",
    "review_features = review_features[['reviews']].reset_index(drop=True)\n",
    "review_features.head()"
   ]
  },
  {
   "cell_type": "markdown",
   "id": "b3f69b67",
   "metadata": {
    "papermill": {
     "duration": 0.26125,
     "end_time": "2022-05-08T15:08:54.366140",
     "exception": false,
     "start_time": "2022-05-08T15:08:54.104890",
     "status": "completed"
    },
    "tags": []
   },
   "source": [
    "# **TFIDF(Term Frequency — Inverse Document Frequency)**\n",
    "TF-IDF stands for “Term Frequency — Inverse Document Frequency”. This is a technique to quantify a word in documents, we generally compute a weight to each word which signifies the importance of the word in the document and corpus. This method is a widely used technique in Information Retrieval and Text Mining.\n",
    "\n",
    "Here we are splitting as bigram (two words) and consider their combined weight.Also we are taking only the top 5000 words from the reviews."
   ]
  },
  {
   "cell_type": "code",
   "execution_count": 34,
   "id": "412beefd",
   "metadata": {
    "execution": {
     "iopub.execute_input": "2022-05-08T15:08:54.897009Z",
     "iopub.status.busy": "2022-05-08T15:08:54.896715Z",
     "iopub.status.idle": "2022-05-08T15:08:56.581514Z",
     "shell.execute_reply": "2022-05-08T15:08:56.580666Z"
    },
    "papermill": {
     "duration": 1.946869,
     "end_time": "2022-05-08T15:08:56.583632",
     "exception": false,
     "start_time": "2022-05-08T15:08:54.636763",
     "status": "completed"
    },
    "tags": []
   },
   "outputs": [
    {
     "data": {
      "text/plain": [
       "(10261, 5000)"
      ]
     },
     "execution_count": 34,
     "metadata": {},
     "output_type": "execute_result"
    }
   ],
   "source": [
    "tfidf_vectorizer = TfidfVectorizer(max_features = 5000, ngram_range = (2,2))\n",
    "# TF-IDF feature matrix\n",
    "X = tfidf_vectorizer.fit_transform(review_features['reviews'])\n",
    "X.shape"
   ]
  },
  {
   "cell_type": "markdown",
   "id": "71b29ae3",
   "metadata": {
    "papermill": {
     "duration": 0.263686,
     "end_time": "2022-05-08T15:08:57.106396",
     "exception": false,
     "start_time": "2022-05-08T15:08:56.842710",
     "status": "completed"
    },
    "tags": []
   },
   "source": [
    "We considered 5000 words, we can confirm that we have 5000 columns from the shape."
   ]
  },
  {
   "cell_type": "code",
   "execution_count": 35,
   "id": "fce0c15b",
   "metadata": {
    "execution": {
     "iopub.execute_input": "2022-05-08T15:08:57.626448Z",
     "iopub.status.busy": "2022-05-08T15:08:57.626144Z",
     "iopub.status.idle": "2022-05-08T15:08:57.630933Z",
     "shell.execute_reply": "2022-05-08T15:08:57.630457Z"
    },
    "papermill": {
     "duration": 0.266862,
     "end_time": "2022-05-08T15:08:57.632666",
     "exception": false,
     "start_time": "2022-05-08T15:08:57.365804",
     "status": "completed"
    },
    "tags": []
   },
   "outputs": [
    {
     "data": {
      "text/plain": [
       "(10261,)"
      ]
     },
     "execution_count": 35,
     "metadata": {},
     "output_type": "execute_result"
    }
   ],
   "source": [
    "#Getting the target variable(encoded)\n",
    "y = reviews['Sentiment']\n",
    "y.shape"
   ]
  },
  {
   "cell_type": "markdown",
   "id": "f0f6c550",
   "metadata": {
    "papermill": {
     "duration": 0.26512,
     "end_time": "2022-05-08T15:08:58.153883",
     "exception": false,
     "start_time": "2022-05-08T15:08:57.888763",
     "status": "completed"
    },
    "tags": []
   },
   "source": [
    "# **Imbalance feature target - Synthetic Minority Oversampling Technique (SMOTE)**\n",
    "In our dataset, there are a lot of positive sentiments compared to negative and neutral, which makes our dataset imbalanced. In order to work for imbalance dataset, SMOTE technique is used to balance out the imbalanced dataset problem. It's aims is to balance class distribution by randomly increasing minority class examples by replicating them.\n",
    "\n",
    "SMOTE synthesises new minority instances between existing minority instances. It generates the virtual training records by linear interpolation for the minority class. These synthetic training records are generated by randomly selecting one or more of the k-nearest neighbors for each example in the minority class. After the oversampling process, the data is reconstructed and several classification models can be applied for the processed data."
   ]
  },
  {
   "cell_type": "code",
   "execution_count": 36,
   "id": "5162ce13",
   "metadata": {
    "execution": {
     "iopub.execute_input": "2022-05-08T15:08:58.674674Z",
     "iopub.status.busy": "2022-05-08T15:08:58.674364Z",
     "iopub.status.idle": "2022-05-08T15:08:58.719152Z",
     "shell.execute_reply": "2022-05-08T15:08:58.718141Z"
    },
    "papermill": {
     "duration": 0.308272,
     "end_time": "2022-05-08T15:08:58.722002",
     "exception": false,
     "start_time": "2022-05-08T15:08:58.413730",
     "status": "completed"
    },
    "tags": []
   },
   "outputs": [
    {
     "name": "stdout",
     "output_type": "stream",
     "text": [
      "Original dataset shape : Counter({2: 9022, 1: 772, 0: 467})\n",
      "Resampled dataset shape Counter({2: 9022, 1: 9022, 0: 9022})\n"
     ]
    }
   ],
   "source": [
    "print(f'Original dataset shape : {Counter(y)}')\n",
    "\n",
    "smote = SMOTE(random_state = 42)\n",
    "X_resampled, y_resampled = smote.fit_resample(X, y)\n",
    "\n",
    "print(f'Resampled dataset shape {Counter(y_resampled)}')"
   ]
  },
  {
   "cell_type": "markdown",
   "id": "81f2d780",
   "metadata": {
    "papermill": {
     "duration": 0.274641,
     "end_time": "2022-05-08T15:08:59.257523",
     "exception": false,
     "start_time": "2022-05-08T15:08:58.982882",
     "status": "completed"
    },
    "tags": []
   },
   "source": [
    "Thus, the resampled data has equally distributed classes/labels."
   ]
  },
  {
   "cell_type": "markdown",
   "id": "0c9cf0ee",
   "metadata": {
    "papermill": {
     "duration": 0.25907,
     "end_time": "2022-05-08T15:08:59.776583",
     "exception": false,
     "start_time": "2022-05-08T15:08:59.517513",
     "status": "completed"
    },
    "tags": []
   },
   "source": [
    "# **Model Building**"
   ]
  },
  {
   "cell_type": "markdown",
   "id": "6c33c2d2",
   "metadata": {
    "papermill": {
     "duration": 0.270049,
     "end_time": "2022-05-08T15:09:00.309677",
     "exception": false,
     "start_time": "2022-05-08T15:09:00.039628",
     "status": "completed"
    },
    "tags": []
   },
   "source": [
    "# **Train - Test Split**\n",
    "Using train test split function we are splitting the dataset into 80:20 ratio for train and test set respectively"
   ]
  },
  {
   "cell_type": "code",
   "execution_count": 37,
   "id": "60210bbb",
   "metadata": {
    "execution": {
     "iopub.execute_input": "2022-05-08T15:09:00.829200Z",
     "iopub.status.busy": "2022-05-08T15:09:00.828891Z",
     "iopub.status.idle": "2022-05-08T15:09:00.838703Z",
     "shell.execute_reply": "2022-05-08T15:09:00.837813Z"
    },
    "papermill": {
     "duration": 0.271704,
     "end_time": "2022-05-08T15:09:00.840626",
     "exception": false,
     "start_time": "2022-05-08T15:09:00.568922",
     "status": "completed"
    },
    "tags": []
   },
   "outputs": [],
   "source": [
    "## Splitting the dataset into Train and Test\n",
    "X_train, X_test, y_train, y_test = train_test_split(X_resampled, y_resampled, test_size = 0.2, random_state=0)"
   ]
  },
  {
   "cell_type": "code",
   "execution_count": 38,
   "id": "d337851a",
   "metadata": {
    "execution": {
     "iopub.execute_input": "2022-05-08T15:09:01.361771Z",
     "iopub.status.busy": "2022-05-08T15:09:01.361236Z",
     "iopub.status.idle": "2022-05-08T15:09:01.368831Z",
     "shell.execute_reply": "2022-05-08T15:09:01.368229Z"
    },
    "papermill": {
     "duration": 0.270658,
     "end_time": "2022-05-08T15:09:01.370544",
     "exception": false,
     "start_time": "2022-05-08T15:09:01.099886",
     "status": "completed"
    },
    "tags": []
   },
   "outputs": [],
   "source": [
    "def plot_confusion_matrix(cm, classes,\n",
    "                          normalize = False,\n",
    "                          title = 'Confusion matrix',\n",
    "                          cmap = plt.cm.Purples):\n",
    "    \"\"\"\n",
    "    This function prints and plots the confusion matrix.\n",
    "    \"\"\"\n",
    "    \n",
    "    plt.imshow(cm, interpolation='nearest', cmap=cmap)\n",
    "    plt.title(title)\n",
    "    plt.colorbar()\n",
    "    tick_marks = np.arange(len(classes))\n",
    "    plt.xticks(tick_marks, classes, rotation=45)\n",
    "    plt.yticks(tick_marks, classes)\n",
    "\n",
    "    if normalize:\n",
    "        cm = cm.astype('float') / cm.sum(axis=1)[:, np.newaxis]\n",
    "        print(\"Normalized confusion matrix\")\n",
    "    else:\n",
    "        print('Confusion matrix, without normalization')\n",
    "\n",
    "    thresh = cm.max() / 2.\n",
    "    for i in range (cm.shape[0]):\n",
    "        for j in range (cm.shape[1]):\n",
    "            plt.text(j, i, cm[i, j],\n",
    "                 horizontalalignment=\"center\",\n",
    "                 color=\"white\" if cm[i, j] > thresh else \"black\")\n",
    "\n",
    "    plt.tight_layout()\n",
    "    plt.ylabel('True label')\n",
    "    plt.xlabel('Predicted label')"
   ]
  },
  {
   "cell_type": "code",
   "execution_count": 39,
   "id": "c1967e04",
   "metadata": {
    "execution": {
     "iopub.execute_input": "2022-05-08T15:09:01.896807Z",
     "iopub.status.busy": "2022-05-08T15:09:01.896280Z",
     "iopub.status.idle": "2022-05-08T15:13:09.770992Z",
     "shell.execute_reply": "2022-05-08T15:13:09.770045Z"
    },
    "papermill": {
     "duration": 248.407436,
     "end_time": "2022-05-08T15:13:10.036294",
     "exception": false,
     "start_time": "2022-05-08T15:09:01.628858",
     "status": "completed"
    },
    "tags": []
   },
   "outputs": [
    {
     "name": "stdout",
     "output_type": "stream",
     "text": [
      "Logistic Regression Test Accuracy: 0.8807135224190521\n",
      "Decision Tree Test Accuracy: 0.81288371854661\n",
      "KNN Test Accuracy: 0.8748661386236337\n",
      "SVC Test Accuracy: 0.8796413976627168\n",
      "Naive Bayes Test Accuracy: 0.802259082738763\n",
      "Random Forest Test Accuracy: 0.877107759119751\n"
     ]
    }
   ],
   "source": [
    "#creating the objects\n",
    "logreg = LogisticRegression(random_state=0)\n",
    "dt = DecisionTreeClassifier()\n",
    "knn = KNeighborsClassifier()\n",
    "svc = SVC()\n",
    "nb = BernoulliNB()\n",
    "rf = RandomForestClassifier()\n",
    "cv_dict = {0: 'Logistic Regression', 1: 'Decision Tree', 2:'KNN', 3:'SVC', 4:'Naive Bayes', 5: 'Random Forest'}\n",
    "cv_models = [logreg, dt, knn, svc, nb, rf]\n",
    "\n",
    "\n",
    "for i,model in enumerate(cv_models):\n",
    "    print(\"{} Test Accuracy: {}\".format(cv_dict[i],cross_val_score(model, X, y, cv = 10, scoring = 'accuracy').mean()))"
   ]
  },
  {
   "cell_type": "code",
   "execution_count": 40,
   "id": "921b3632",
   "metadata": {
    "execution": {
     "iopub.execute_input": "2022-05-08T15:13:10.556975Z",
     "iopub.status.busy": "2022-05-08T15:13:10.556461Z",
     "iopub.status.idle": "2022-05-08T15:14:17.144664Z",
     "shell.execute_reply": "2022-05-08T15:14:17.143616Z"
    },
    "papermill": {
     "duration": 66.851807,
     "end_time": "2022-05-08T15:14:17.148111",
     "exception": false,
     "start_time": "2022-05-08T15:13:10.296304",
     "status": "completed"
    },
    "tags": []
   },
   "outputs": [
    {
     "ename": "KeyboardInterrupt",
     "evalue": "",
     "output_type": "error",
     "traceback": [
      "\u001b[31m---------------------------------------------------------------------------\u001b[39m",
      "\u001b[31mKeyboardInterrupt\u001b[39m                         Traceback (most recent call last)",
      "\u001b[36mCell\u001b[39m\u001b[36m \u001b[39m\u001b[32mIn[40]\u001b[39m\u001b[32m, line 4\u001b[39m\n\u001b[32m      1\u001b[39m param_grid = {\u001b[33m'\u001b[39m\u001b[33mC\u001b[39m\u001b[33m'\u001b[39m: np.logspace(-\u001b[32m4\u001b[39m, \u001b[32m4\u001b[39m, \u001b[32m50\u001b[39m),\n\u001b[32m      2\u001b[39m              \u001b[33m'\u001b[39m\u001b[33mpenalty\u001b[39m\u001b[33m'\u001b[39m:[\u001b[33m'\u001b[39m\u001b[33ml1\u001b[39m\u001b[33m'\u001b[39m, \u001b[33m'\u001b[39m\u001b[33ml2\u001b[39m\u001b[33m'\u001b[39m]}\n\u001b[32m      3\u001b[39m clf = GridSearchCV(LogisticRegression(random_state = \u001b[32m0\u001b[39m), param_grid, cv = \u001b[32m5\u001b[39m, verbose = \u001b[32m0\u001b[39m,n_jobs = -\u001b[32m1\u001b[39m)\n\u001b[32m----> \u001b[39m\u001b[32m4\u001b[39m best_model = \u001b[43mclf\u001b[49m\u001b[43m.\u001b[49m\u001b[43mfit\u001b[49m\u001b[43m(\u001b[49m\u001b[43mX_train\u001b[49m\u001b[43m,\u001b[49m\u001b[43my_train\u001b[49m\u001b[43m)\u001b[49m\n\u001b[32m      5\u001b[39m \u001b[38;5;28mprint\u001b[39m(best_model.best_estimator_)\n\u001b[32m      6\u001b[39m \u001b[38;5;28mprint\u001b[39m(\u001b[33m\"\u001b[39m\u001b[33mThe mean accuracy of the model is:\u001b[39m\u001b[33m\"\u001b[39m, best_model.score(X_test,y_test))\n",
      "\u001b[36mFile \u001b[39m\u001b[32mc:\\Users\\Asus PC\\Desktop\\amazon-realtime-sentiment-analysis\\venv\\Lib\\site-packages\\sklearn\\base.py:1389\u001b[39m, in \u001b[36m_fit_context.<locals>.decorator.<locals>.wrapper\u001b[39m\u001b[34m(estimator, *args, **kwargs)\u001b[39m\n\u001b[32m   1382\u001b[39m     estimator._validate_params()\n\u001b[32m   1384\u001b[39m \u001b[38;5;28;01mwith\u001b[39;00m config_context(\n\u001b[32m   1385\u001b[39m     skip_parameter_validation=(\n\u001b[32m   1386\u001b[39m         prefer_skip_nested_validation \u001b[38;5;129;01mor\u001b[39;00m global_skip_validation\n\u001b[32m   1387\u001b[39m     )\n\u001b[32m   1388\u001b[39m ):\n\u001b[32m-> \u001b[39m\u001b[32m1389\u001b[39m     \u001b[38;5;28;01mreturn\u001b[39;00m \u001b[43mfit_method\u001b[49m\u001b[43m(\u001b[49m\u001b[43mestimator\u001b[49m\u001b[43m,\u001b[49m\u001b[43m \u001b[49m\u001b[43m*\u001b[49m\u001b[43margs\u001b[49m\u001b[43m,\u001b[49m\u001b[43m \u001b[49m\u001b[43m*\u001b[49m\u001b[43m*\u001b[49m\u001b[43mkwargs\u001b[49m\u001b[43m)\u001b[49m\n",
      "\u001b[36mFile \u001b[39m\u001b[32mc:\\Users\\Asus PC\\Desktop\\amazon-realtime-sentiment-analysis\\venv\\Lib\\site-packages\\sklearn\\model_selection\\_search.py:1024\u001b[39m, in \u001b[36mBaseSearchCV.fit\u001b[39m\u001b[34m(self, X, y, **params)\u001b[39m\n\u001b[32m   1018\u001b[39m     results = \u001b[38;5;28mself\u001b[39m._format_results(\n\u001b[32m   1019\u001b[39m         all_candidate_params, n_splits, all_out, all_more_results\n\u001b[32m   1020\u001b[39m     )\n\u001b[32m   1022\u001b[39m     \u001b[38;5;28;01mreturn\u001b[39;00m results\n\u001b[32m-> \u001b[39m\u001b[32m1024\u001b[39m \u001b[38;5;28;43mself\u001b[39;49m\u001b[43m.\u001b[49m\u001b[43m_run_search\u001b[49m\u001b[43m(\u001b[49m\u001b[43mevaluate_candidates\u001b[49m\u001b[43m)\u001b[49m\n\u001b[32m   1026\u001b[39m \u001b[38;5;66;03m# multimetric is determined here because in the case of a callable\u001b[39;00m\n\u001b[32m   1027\u001b[39m \u001b[38;5;66;03m# self.scoring the return type is only known after calling\u001b[39;00m\n\u001b[32m   1028\u001b[39m first_test_score = all_out[\u001b[32m0\u001b[39m][\u001b[33m\"\u001b[39m\u001b[33mtest_scores\u001b[39m\u001b[33m\"\u001b[39m]\n",
      "\u001b[36mFile \u001b[39m\u001b[32mc:\\Users\\Asus PC\\Desktop\\amazon-realtime-sentiment-analysis\\venv\\Lib\\site-packages\\sklearn\\model_selection\\_search.py:1571\u001b[39m, in \u001b[36mGridSearchCV._run_search\u001b[39m\u001b[34m(self, evaluate_candidates)\u001b[39m\n\u001b[32m   1569\u001b[39m \u001b[38;5;28;01mdef\u001b[39;00m\u001b[38;5;250m \u001b[39m\u001b[34m_run_search\u001b[39m(\u001b[38;5;28mself\u001b[39m, evaluate_candidates):\n\u001b[32m   1570\u001b[39m \u001b[38;5;250m    \u001b[39m\u001b[33;03m\"\"\"Search all candidates in param_grid\"\"\"\u001b[39;00m\n\u001b[32m-> \u001b[39m\u001b[32m1571\u001b[39m     \u001b[43mevaluate_candidates\u001b[49m\u001b[43m(\u001b[49m\u001b[43mParameterGrid\u001b[49m\u001b[43m(\u001b[49m\u001b[38;5;28;43mself\u001b[39;49m\u001b[43m.\u001b[49m\u001b[43mparam_grid\u001b[49m\u001b[43m)\u001b[49m\u001b[43m)\u001b[49m\n",
      "\u001b[36mFile \u001b[39m\u001b[32mc:\\Users\\Asus PC\\Desktop\\amazon-realtime-sentiment-analysis\\venv\\Lib\\site-packages\\sklearn\\model_selection\\_search.py:970\u001b[39m, in \u001b[36mBaseSearchCV.fit.<locals>.evaluate_candidates\u001b[39m\u001b[34m(candidate_params, cv, more_results)\u001b[39m\n\u001b[32m    962\u001b[39m \u001b[38;5;28;01mif\u001b[39;00m \u001b[38;5;28mself\u001b[39m.verbose > \u001b[32m0\u001b[39m:\n\u001b[32m    963\u001b[39m     \u001b[38;5;28mprint\u001b[39m(\n\u001b[32m    964\u001b[39m         \u001b[33m\"\u001b[39m\u001b[33mFitting \u001b[39m\u001b[38;5;132;01m{0}\u001b[39;00m\u001b[33m folds for each of \u001b[39m\u001b[38;5;132;01m{1}\u001b[39;00m\u001b[33m candidates,\u001b[39m\u001b[33m\"\u001b[39m\n\u001b[32m    965\u001b[39m         \u001b[33m\"\u001b[39m\u001b[33m totalling \u001b[39m\u001b[38;5;132;01m{2}\u001b[39;00m\u001b[33m fits\u001b[39m\u001b[33m\"\u001b[39m.format(\n\u001b[32m    966\u001b[39m             n_splits, n_candidates, n_candidates * n_splits\n\u001b[32m    967\u001b[39m         )\n\u001b[32m    968\u001b[39m     )\n\u001b[32m--> \u001b[39m\u001b[32m970\u001b[39m out = \u001b[43mparallel\u001b[49m\u001b[43m(\u001b[49m\n\u001b[32m    971\u001b[39m \u001b[43m    \u001b[49m\u001b[43mdelayed\u001b[49m\u001b[43m(\u001b[49m\u001b[43m_fit_and_score\u001b[49m\u001b[43m)\u001b[49m\u001b[43m(\u001b[49m\n\u001b[32m    972\u001b[39m \u001b[43m        \u001b[49m\u001b[43mclone\u001b[49m\u001b[43m(\u001b[49m\u001b[43mbase_estimator\u001b[49m\u001b[43m)\u001b[49m\u001b[43m,\u001b[49m\n\u001b[32m    973\u001b[39m \u001b[43m        \u001b[49m\u001b[43mX\u001b[49m\u001b[43m,\u001b[49m\n\u001b[32m    974\u001b[39m \u001b[43m        \u001b[49m\u001b[43my\u001b[49m\u001b[43m,\u001b[49m\n\u001b[32m    975\u001b[39m \u001b[43m        \u001b[49m\u001b[43mtrain\u001b[49m\u001b[43m=\u001b[49m\u001b[43mtrain\u001b[49m\u001b[43m,\u001b[49m\n\u001b[32m    976\u001b[39m \u001b[43m        \u001b[49m\u001b[43mtest\u001b[49m\u001b[43m=\u001b[49m\u001b[43mtest\u001b[49m\u001b[43m,\u001b[49m\n\u001b[32m    977\u001b[39m \u001b[43m        \u001b[49m\u001b[43mparameters\u001b[49m\u001b[43m=\u001b[49m\u001b[43mparameters\u001b[49m\u001b[43m,\u001b[49m\n\u001b[32m    978\u001b[39m \u001b[43m        \u001b[49m\u001b[43msplit_progress\u001b[49m\u001b[43m=\u001b[49m\u001b[43m(\u001b[49m\u001b[43msplit_idx\u001b[49m\u001b[43m,\u001b[49m\u001b[43m \u001b[49m\u001b[43mn_splits\u001b[49m\u001b[43m)\u001b[49m\u001b[43m,\u001b[49m\n\u001b[32m    979\u001b[39m \u001b[43m        \u001b[49m\u001b[43mcandidate_progress\u001b[49m\u001b[43m=\u001b[49m\u001b[43m(\u001b[49m\u001b[43mcand_idx\u001b[49m\u001b[43m,\u001b[49m\u001b[43m \u001b[49m\u001b[43mn_candidates\u001b[49m\u001b[43m)\u001b[49m\u001b[43m,\u001b[49m\n\u001b[32m    980\u001b[39m \u001b[43m        \u001b[49m\u001b[43m*\u001b[49m\u001b[43m*\u001b[49m\u001b[43mfit_and_score_kwargs\u001b[49m\u001b[43m,\u001b[49m\n\u001b[32m    981\u001b[39m \u001b[43m    \u001b[49m\u001b[43m)\u001b[49m\n\u001b[32m    982\u001b[39m \u001b[43m    \u001b[49m\u001b[38;5;28;43;01mfor\u001b[39;49;00m\u001b[43m \u001b[49m\u001b[43m(\u001b[49m\u001b[43mcand_idx\u001b[49m\u001b[43m,\u001b[49m\u001b[43m \u001b[49m\u001b[43mparameters\u001b[49m\u001b[43m)\u001b[49m\u001b[43m,\u001b[49m\u001b[43m \u001b[49m\u001b[43m(\u001b[49m\u001b[43msplit_idx\u001b[49m\u001b[43m,\u001b[49m\u001b[43m \u001b[49m\u001b[43m(\u001b[49m\u001b[43mtrain\u001b[49m\u001b[43m,\u001b[49m\u001b[43m \u001b[49m\u001b[43mtest\u001b[49m\u001b[43m)\u001b[49m\u001b[43m)\u001b[49m\u001b[43m \u001b[49m\u001b[38;5;129;43;01min\u001b[39;49;00m\u001b[43m \u001b[49m\u001b[43mproduct\u001b[49m\u001b[43m(\u001b[49m\n\u001b[32m    983\u001b[39m \u001b[43m        \u001b[49m\u001b[38;5;28;43menumerate\u001b[39;49m\u001b[43m(\u001b[49m\u001b[43mcandidate_params\u001b[49m\u001b[43m)\u001b[49m\u001b[43m,\u001b[49m\n\u001b[32m    984\u001b[39m \u001b[43m        \u001b[49m\u001b[38;5;28;43menumerate\u001b[39;49m\u001b[43m(\u001b[49m\u001b[43mcv\u001b[49m\u001b[43m.\u001b[49m\u001b[43msplit\u001b[49m\u001b[43m(\u001b[49m\u001b[43mX\u001b[49m\u001b[43m,\u001b[49m\u001b[43m \u001b[49m\u001b[43my\u001b[49m\u001b[43m,\u001b[49m\u001b[43m \u001b[49m\u001b[43m*\u001b[49m\u001b[43m*\u001b[49m\u001b[43mrouted_params\u001b[49m\u001b[43m.\u001b[49m\u001b[43msplitter\u001b[49m\u001b[43m.\u001b[49m\u001b[43msplit\u001b[49m\u001b[43m)\u001b[49m\u001b[43m)\u001b[49m\u001b[43m,\u001b[49m\n\u001b[32m    985\u001b[39m \u001b[43m    \u001b[49m\u001b[43m)\u001b[49m\n\u001b[32m    986\u001b[39m \u001b[43m\u001b[49m\u001b[43m)\u001b[49m\n\u001b[32m    988\u001b[39m \u001b[38;5;28;01mif\u001b[39;00m \u001b[38;5;28mlen\u001b[39m(out) < \u001b[32m1\u001b[39m:\n\u001b[32m    989\u001b[39m     \u001b[38;5;28;01mraise\u001b[39;00m \u001b[38;5;167;01mValueError\u001b[39;00m(\n\u001b[32m    990\u001b[39m         \u001b[33m\"\u001b[39m\u001b[33mNo fits were performed. \u001b[39m\u001b[33m\"\u001b[39m\n\u001b[32m    991\u001b[39m         \u001b[33m\"\u001b[39m\u001b[33mWas the CV iterator empty? \u001b[39m\u001b[33m\"\u001b[39m\n\u001b[32m    992\u001b[39m         \u001b[33m\"\u001b[39m\u001b[33mWere there no candidates?\u001b[39m\u001b[33m\"\u001b[39m\n\u001b[32m    993\u001b[39m     )\n",
      "\u001b[36mFile \u001b[39m\u001b[32mc:\\Users\\Asus PC\\Desktop\\amazon-realtime-sentiment-analysis\\venv\\Lib\\site-packages\\sklearn\\utils\\parallel.py:77\u001b[39m, in \u001b[36mParallel.__call__\u001b[39m\u001b[34m(self, iterable)\u001b[39m\n\u001b[32m     72\u001b[39m config = get_config()\n\u001b[32m     73\u001b[39m iterable_with_config = (\n\u001b[32m     74\u001b[39m     (_with_config(delayed_func, config), args, kwargs)\n\u001b[32m     75\u001b[39m     \u001b[38;5;28;01mfor\u001b[39;00m delayed_func, args, kwargs \u001b[38;5;129;01min\u001b[39;00m iterable\n\u001b[32m     76\u001b[39m )\n\u001b[32m---> \u001b[39m\u001b[32m77\u001b[39m \u001b[38;5;28;01mreturn\u001b[39;00m \u001b[38;5;28;43msuper\u001b[39;49m\u001b[43m(\u001b[49m\u001b[43m)\u001b[49m\u001b[43m.\u001b[49m\u001b[34;43m__call__\u001b[39;49m\u001b[43m(\u001b[49m\u001b[43miterable_with_config\u001b[49m\u001b[43m)\u001b[49m\n",
      "\u001b[36mFile \u001b[39m\u001b[32mc:\\Users\\Asus PC\\Desktop\\amazon-realtime-sentiment-analysis\\venv\\Lib\\site-packages\\joblib\\parallel.py:2071\u001b[39m, in \u001b[36mParallel.__call__\u001b[39m\u001b[34m(self, iterable)\u001b[39m\n\u001b[32m   2065\u001b[39m \u001b[38;5;66;03m# The first item from the output is blank, but it makes the interpreter\u001b[39;00m\n\u001b[32m   2066\u001b[39m \u001b[38;5;66;03m# progress until it enters the Try/Except block of the generator and\u001b[39;00m\n\u001b[32m   2067\u001b[39m \u001b[38;5;66;03m# reaches the first `yield` statement. This starts the asynchronous\u001b[39;00m\n\u001b[32m   2068\u001b[39m \u001b[38;5;66;03m# dispatch of the tasks to the workers.\u001b[39;00m\n\u001b[32m   2069\u001b[39m \u001b[38;5;28mnext\u001b[39m(output)\n\u001b[32m-> \u001b[39m\u001b[32m2071\u001b[39m \u001b[38;5;28;01mreturn\u001b[39;00m output \u001b[38;5;28;01mif\u001b[39;00m \u001b[38;5;28mself\u001b[39m.return_generator \u001b[38;5;28;01melse\u001b[39;00m \u001b[38;5;28mlist\u001b[39m(output)\n",
      "\u001b[36mFile \u001b[39m\u001b[32mc:\\Users\\Asus PC\\Desktop\\amazon-realtime-sentiment-analysis\\venv\\Lib\\site-packages\\joblib\\parallel.py:1681\u001b[39m, in \u001b[36mParallel._get_outputs\u001b[39m\u001b[34m(self, iterator, pre_dispatch)\u001b[39m\n\u001b[32m   1678\u001b[39m     \u001b[38;5;28;01myield\u001b[39;00m\n\u001b[32m   1680\u001b[39m     \u001b[38;5;28;01mwith\u001b[39;00m \u001b[38;5;28mself\u001b[39m._backend.retrieval_context():\n\u001b[32m-> \u001b[39m\u001b[32m1681\u001b[39m         \u001b[38;5;28;01myield from\u001b[39;00m \u001b[38;5;28mself\u001b[39m._retrieve()\n\u001b[32m   1683\u001b[39m \u001b[38;5;28;01mexcept\u001b[39;00m \u001b[38;5;167;01mGeneratorExit\u001b[39;00m:\n\u001b[32m   1684\u001b[39m     \u001b[38;5;66;03m# The generator has been garbage collected before being fully\u001b[39;00m\n\u001b[32m   1685\u001b[39m     \u001b[38;5;66;03m# consumed. This aborts the remaining tasks if possible and warn\u001b[39;00m\n\u001b[32m   1686\u001b[39m     \u001b[38;5;66;03m# the user if necessary.\u001b[39;00m\n\u001b[32m   1687\u001b[39m     \u001b[38;5;28mself\u001b[39m._exception = \u001b[38;5;28;01mTrue\u001b[39;00m\n",
      "\u001b[36mFile \u001b[39m\u001b[32mc:\\Users\\Asus PC\\Desktop\\amazon-realtime-sentiment-analysis\\venv\\Lib\\site-packages\\joblib\\parallel.py:1799\u001b[39m, in \u001b[36mParallel._retrieve\u001b[39m\u001b[34m(self)\u001b[39m\n\u001b[32m   1788\u001b[39m \u001b[38;5;28;01mif\u001b[39;00m \u001b[38;5;28mself\u001b[39m.return_ordered:\n\u001b[32m   1789\u001b[39m     \u001b[38;5;66;03m# Case ordered: wait for completion (or error) of the next job\u001b[39;00m\n\u001b[32m   1790\u001b[39m     \u001b[38;5;66;03m# that have been dispatched and not retrieved yet. If no job\u001b[39;00m\n\u001b[32m   (...)\u001b[39m\u001b[32m   1794\u001b[39m     \u001b[38;5;66;03m# control only have to be done on the amount of time the next\u001b[39;00m\n\u001b[32m   1795\u001b[39m     \u001b[38;5;66;03m# dispatched job is pending.\u001b[39;00m\n\u001b[32m   1796\u001b[39m     \u001b[38;5;28;01mif\u001b[39;00m (nb_jobs == \u001b[32m0\u001b[39m) \u001b[38;5;129;01mor\u001b[39;00m (\n\u001b[32m   1797\u001b[39m         \u001b[38;5;28mself\u001b[39m._jobs[\u001b[32m0\u001b[39m].get_status(timeout=\u001b[38;5;28mself\u001b[39m.timeout) == TASK_PENDING\n\u001b[32m   1798\u001b[39m     ):\n\u001b[32m-> \u001b[39m\u001b[32m1799\u001b[39m         time.sleep(\u001b[32m0.01\u001b[39m)\n\u001b[32m   1800\u001b[39m         \u001b[38;5;28;01mcontinue\u001b[39;00m\n\u001b[32m   1802\u001b[39m \u001b[38;5;28;01melif\u001b[39;00m nb_jobs == \u001b[32m0\u001b[39m:\n\u001b[32m   1803\u001b[39m     \u001b[38;5;66;03m# Case unordered: jobs are added to the list of jobs to\u001b[39;00m\n\u001b[32m   1804\u001b[39m     \u001b[38;5;66;03m# retrieve `self._jobs` only once completed or in error, which\u001b[39;00m\n\u001b[32m   (...)\u001b[39m\u001b[32m   1810\u001b[39m     \u001b[38;5;66;03m# timeouts before any other dispatched job has completed and\u001b[39;00m\n\u001b[32m   1811\u001b[39m     \u001b[38;5;66;03m# been added to `self._jobs` to be retrieved.\u001b[39;00m\n",
      "\u001b[31mKeyboardInterrupt\u001b[39m: "
     ]
    }
   ],
   "source": [
    "param_grid = {'C': np.logspace(-4, 4, 50),\n",
    "             'penalty':['l1', 'l2']}\n",
    "clf = GridSearchCV(LogisticRegression(random_state = 0), param_grid, cv = 5, verbose = 0,n_jobs = -1)\n",
    "best_model = clf.fit(X_train,y_train)\n",
    "print(best_model.best_estimator_)\n",
    "print(\"The mean accuracy of the model is:\", best_model.score(X_test,y_test))"
   ]
  },
  {
   "cell_type": "markdown",
   "id": "d3e5b02d",
   "metadata": {
    "papermill": {
     "duration": 0.261852,
     "end_time": "2022-05-08T15:14:17.753769",
     "exception": false,
     "start_time": "2022-05-08T15:14:17.491917",
     "status": "completed"
    },
    "tags": []
   },
   "source": [
    "From the selected parameters of C and random_state"
   ]
  },
  {
   "cell_type": "code",
   "execution_count": 41,
   "id": "1d262272",
   "metadata": {
    "execution": {
     "iopub.execute_input": "2022-05-08T15:14:18.309209Z",
     "iopub.status.busy": "2022-05-08T15:14:18.308948Z",
     "iopub.status.idle": "2022-05-08T15:14:21.969855Z",
     "shell.execute_reply": "2022-05-08T15:14:21.968525Z"
    },
    "papermill": {
     "duration": 3.954531,
     "end_time": "2022-05-08T15:14:21.973189",
     "exception": false,
     "start_time": "2022-05-08T15:14:18.018658",
     "status": "completed"
    },
    "tags": []
   },
   "outputs": [
    {
     "name": "stdout",
     "output_type": "stream",
     "text": [
      "Accuracy of logistic regression classifier on test set: 0.94\n"
     ]
    }
   ],
   "source": [
    "logreg = LogisticRegression(C = 6866.498, random_state = 0)\n",
    "logreg.fit(X_train, y_train)\n",
    "y_pred = logreg.predict(X_test)\n",
    "print('Accuracy of logistic regression classifier on test set: {:.2f}'.format(logreg.score(X_test, y_test)))"
   ]
  },
  {
   "cell_type": "markdown",
   "id": "22b4276d",
   "metadata": {
    "papermill": {
     "duration": 0.265361,
     "end_time": "2022-05-08T15:14:22.573444",
     "exception": false,
     "start_time": "2022-05-08T15:14:22.308083",
     "status": "completed"
    },
    "tags": []
   },
   "source": [
    "# **Classification metrics**\n",
    "Since the accuracy turns out to be 94%, for classification problems,  confusion matrix and f1 score is required than accuracy alone."
   ]
  },
  {
   "cell_type": "code",
   "execution_count": 42,
   "id": "662a4e98",
   "metadata": {
    "execution": {
     "iopub.execute_input": "2022-05-08T15:14:23.104641Z",
     "iopub.status.busy": "2022-05-08T15:14:23.104225Z",
     "iopub.status.idle": "2022-05-08T15:14:23.430682Z",
     "shell.execute_reply": "2022-05-08T15:14:23.429719Z"
    },
    "papermill": {
     "duration": 0.595164,
     "end_time": "2022-05-08T15:14:23.432665",
     "exception": false,
     "start_time": "2022-05-08T15:14:22.837501",
     "status": "completed"
    },
    "tags": []
   },
   "outputs": [
    {
     "name": "stdout",
     "output_type": "stream",
     "text": [
      "Confusion matrix, without normalization\n"
     ]
    },
    {
     "data": {
      "image/png": "[encoded data removed]",
      "text/plain": [
       "<Figure size 640x480 with 2 Axes>"
      ]
     },
     "metadata": {},
     "output_type": "display_data"
    }
   ],
   "source": [
    "cm = metrics.confusion_matrix(y_test, y_pred)\n",
    "plot_confusion_matrix(cm, classes = ['Positive','Neutral','Negative'])"
   ]
  },
  {
   "cell_type": "markdown",
   "id": "8449a4d3",
   "metadata": {
    "papermill": {
     "duration": 0.264744,
     "end_time": "2022-05-08T15:14:23.960626",
     "exception": false,
     "start_time": "2022-05-08T15:14:23.695882",
     "status": "completed"
    },
    "tags": []
   },
   "source": [
    "The diagonal elements (1846+1773+1472), they are correctly predicted records and rest are incorrectly classified by the algorithm."
   ]
  },
  {
   "cell_type": "code",
   "execution_count": 43,
   "id": "96399bd2",
   "metadata": {
    "execution": {
     "iopub.execute_input": "2022-05-08T15:14:24.491729Z",
     "iopub.status.busy": "2022-05-08T15:14:24.491414Z",
     "iopub.status.idle": "2022-05-08T15:14:24.508742Z",
     "shell.execute_reply": "2022-05-08T15:14:24.507496Z"
    },
    "papermill": {
     "duration": 0.285385,
     "end_time": "2022-05-08T15:14:24.510987",
     "exception": false,
     "start_time": "2022-05-08T15:14:24.225602",
     "status": "completed"
    },
    "tags": []
   },
   "outputs": [
    {
     "name": "stdout",
     "output_type": "stream",
     "text": [
      "Classification Report:\n",
      "               precision    recall  f1-score   support\n",
      "\n",
      "           0       0.92      1.00      0.96      1852\n",
      "           1       0.90      0.97      0.94      1811\n",
      "           2       1.00      0.84      0.91      1751\n",
      "\n",
      "    accuracy                           0.94      5414\n",
      "   macro avg       0.94      0.94      0.94      5414\n",
      "weighted avg       0.94      0.94      0.94      5414\n",
      "\n"
     ]
    }
   ],
   "source": [
    "print(\"Classification Report:\\n\",classification_report(y_test, y_pred))"
   ]
  },
  {
   "cell_type": "markdown",
   "id": "09376948",
   "metadata": {
    "papermill": {
     "duration": 0.268918,
     "end_time": "2022-05-08T15:15:09.120433",
     "exception": false,
     "start_time": "2022-05-08T15:15:08.851515",
     "status": "completed"
    },
    "tags": []
   },
   "source": [
    "# **Conclusion**\n",
    "Classifying all the sentiment classes starting from splitting the sentiments based on overall score,text cleaning, customize the stopwords list based on requirement and finally handling imbalance with SMOTE. Here are few insights from the notebook.\n",
    "\n",
    "1. *ngram* in sentiment analysis as one word can't give is proper results and stop words got to be manually checked as they have negative words. It is advised to avoid using stop words in sentiment analysis.\n",
    "2. Most of our *neutral* reviews were actual critic of product from the buyers, so amazon can consider these as feedback and give them to the seller to help them improve their products\n",
    "3. Most of the reviews in this dataset were about string instruments such as guitar.\n",
    "4. Balancing the dataset got a very fruitful accuracy score. Without balancing,a good precision is achieved but a bad recall and inturn f1 score would be affected. So balancing the target feature is important.\n",
    "5. In sentiment analysis, we should concentrate on our f1 score where an average score of 94% is achieved.\n",
    "Thank you for reading my notebook. "
   ]
  }
 ],
 "metadata": {
  "kernelspec": {
   "display_name": "venv",
   "language": "python",
   "name": "python3"
  },
  "language_info": {
   "codemirror_mode": {
    "name": "ipython",
    "version": 3
   },
   "file_extension": ".py",
   "mimetype": "text/x-python",
   "name": "python",
   "nbconvert_exporter": "python",
   "pygments_lexer": "ipython3",
   "version": "3.11.8"
  },
  "papermill": {
   "default_parameters": {},
   "duration": 450.345431,
   "end_time": "2022-05-08T15:15:13.172596",
   "environment_variables": {},
   "exception": null,
   "input_path": "__notebook__.ipynb",
   "output_path": "__notebook__.ipynb",
   "parameters": {},
   "start_time": "2022-05-08T15:07:42.827165",
   "version": "2.3.4"
  }
 },
 "nbformat": 4,
 "nbformat_minor": 5
}
